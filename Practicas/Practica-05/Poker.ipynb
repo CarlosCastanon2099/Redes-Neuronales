{
 "cells": [
  {
   "cell_type": "markdown",
   "metadata": {},
   "source": [
    "## Pytorch\n",
    "\n",
    "Usamos los datos de la siguiente página.\n",
    "\n",
    "https://archive.ics.uci.edu/dataset/158/poker+hand\n",
    "\n",
    "El conjunto describe manos en un juego de póker.  Cada mano es tomada de una baraja de 52 cartas.  Cada carta (o naipe) es descrita por dos atributos:\n",
    "1. palo (_suite_): 1 - Corazón, 2 - Pica o espada, 3 - Diamante, 4 - Trébol; y\n",
    "2. valor (_rank_), números del 1 al 13;\n",
    "dando un total de 10 atributos.\n",
    "\n",
    "El atributo en la última columna corresponde al tipo de mano, son números del 0 al 9 y este es el valor a predecir.\n",
    "\n",
    "Solo se usará el archivo **poker-hand-testing.data** el cual dividiremos en los conjuntos de entrenamiento y validación.\n",
    "\n",
    "Para instalar Pytorch puedes tu sistema operativo, tu instalador de paquetes de python y tus versiones, estaremos usando la versión 1.7.0 de pytorch, si tienes CUDA, también selecciona tu versión, en otro caso, \n",
    "puedes elegir None."
   ]
  },
  {
   "cell_type": "code",
   "execution_count": 1,
   "metadata": {
    "tags": []
   },
   "outputs": [],
   "source": [
    "%matplotlib inline\n",
    "\n",
    "import matplotlib.pyplot as plt\n",
    "import matplotlib.cm as cm\n",
    "plt.style.use('fivethirtyeight')\n",
    "\n",
    "from IPython.core.pylabtools import figsize\n",
    "figsize(11, 5)\n",
    "colores = [\"#348ABD\", \"#A60628\",\"#06A628\"]"
   ]
  },
  {
   "cell_type": "code",
   "execution_count": 2,
   "metadata": {
    "tags": []
   },
   "outputs": [],
   "source": [
    "from ipywidgets import interact, interactive, fixed, interact_manual\n",
    "import ipywidgets as widgets\n",
    "from IPython.display import display"
   ]
  },
  {
   "cell_type": "code",
   "execution_count": 3,
   "metadata": {
    "tags": []
   },
   "outputs": [],
   "source": [
    "import torch\n",
    "from torch.autograd import Variable\n",
    "import torch.nn as nn\n",
    "import torch.optim as optim\n",
    "#Definimos el dispositivo que se usará.\n",
    "device = torch.device('cpu')"
   ]
  },
  {
   "cell_type": "code",
   "execution_count": 4,
   "metadata": {
    "tags": []
   },
   "outputs": [],
   "source": [
    "import numpy as np"
   ]
  },
  {
   "cell_type": "code",
   "execution_count": null,
   "metadata": {},
   "outputs": [],
   "source": [
    "def get_data(path):\n",
    "    '''\n",
    "    Función para obtener las matrices de entrenamiento y de validación\n",
    "    a partir de los datos que se encuentran en el archivo que se define en \n",
    "    el parámetro path.\n",
    "    '''\n",
    "    pass"
   ]
  },
  {
   "cell_type": "code",
   "execution_count": null,
   "metadata": {},
   "outputs": [],
   "source": [
    "data_path = './data/poker-hand-testing.data'\n",
    "## Define una función para obtener los datos, revuelvelos \n",
    "## aleatoriamente y dividelos en los conjuntos de validación y \n",
    "## de entrenamiento.\n",
    "X_train,Y_train,X_val,Y_val = get_data(data_path)"
   ]
  },
  {
   "cell_type": "markdown",
   "metadata": {},
   "source": [
    "Usaremos la biblioteca nn de pytorch para definir nuestro modelo de red neuronal, puedes \n",
    "ver los tipos de capas, funciones de activación y funciones de error con las que \n",
    "disponemos viendo la documentación de pytorch. Busque la definición de \n",
    "\n",
    "https://pytorch.org/docs/stable/nn.html"
   ]
  },
  {
   "cell_type": "code",
   "execution_count": null,
   "metadata": {},
   "outputs": [],
   "source": [
    "class Poker(nn.Module):\n",
    "    def __init__(self,input_size,hidden,output_size):\n",
    "        '''\n",
    "        Define las caracteristicas de una red completamente conectada \n",
    "        de tres capas, recibe la cantidad de elementos de entrada, el \n",
    "        número de capas ocultas y el número de elementos de salida. \n",
    "        Entre cada capa agrega una función de activación logistica.\n",
    "        '''\n",
    "        super(Poker,self).__init__()\n",
    "        pass\n",
    "\n",
    "        \n",
    "    def feed_forward(self,X):\n",
    "        '''\n",
    "        Define una función que de como resultado realizar la propagación\n",
    "        hacia adelante de los elementos de X en la red definida.\n",
    "        '''\n",
    "        pass\n",
    "    \n",
    "    def back_propagate(self,X,Y):\n",
    "        '''\n",
    "        Define una función que realice la propagación hacia atras usando \n",
    "        la función de error de entropia cruzada.\n",
    "        '''\n",
    "        pass\n",
    "        \n",
    "    def train(self,train_X,train_Y,optimizer,ciclos=100):\n",
    "        '''\n",
    "        Define una función de entrenamiento para la red, la cual utilice\n",
    "        al conjunto de entrenamiento y el algoritmo de optimización que se \n",
    "        obtenga como parametro. Al finalizar los ciclos muestra la gráfica \n",
    "        del error.\n",
    "        '''\n",
    "        pass\n",
    "        \n",
    "                \n",
    "    def confusion(self,test_X,test_Y):\n",
    "        '''\n",
    "        Muestra la matriz de confusión que presenta los valores actuales de\n",
    "        la red, respecto al conjunto de datos que se decida usar.\n",
    "        '''\n",
    "        pass\n",
    "        "
   ]
  },
  {
   "cell_type": "markdown",
   "metadata": {},
   "source": [
    "Usando la misma definición de la red podemos modificar fácilmente los algoritmos de optimización que \n",
    "usamos para su entrenamiento. Prueba los siguientes algoritmos de optimización con tus mismos datos \n",
    "y con la misma cantidad de iteraciones.\n",
    "\n",
    "Las definiciones de estos algorimos las puedes ver en la documentación de pytorch\n",
    "\n",
    "https://pytorch.org/docs/stable/optim.html"
   ]
  },
  {
   "cell_type": "code",
   "execution_count": null,
   "metadata": {},
   "outputs": [],
   "source": [
    "## Entrena una red utilizando el algoritmo de optimización de\n",
    "## stochastic gradient descent y muestra la matriz de confusión"
   ]
  },
  {
   "cell_type": "code",
   "execution_count": null,
   "metadata": {},
   "outputs": [],
   "source": [
    "## Entrena una red utilizando el algoritmo de optimización Adam\n",
    "## y muestra la matriz de confusión"
   ]
  },
  {
   "cell_type": "code",
   "execution_count": null,
   "metadata": {},
   "outputs": [],
   "source": [
    "## Entrena una red utilizando el algoritmo de optmización Adagrad\n",
    "## y muestra la matriz de confusión."
   ]
  },
  {
   "cell_type": "code",
   "execution_count": null,
   "metadata": {},
   "outputs": [],
   "source": [
    "from IPython.core.display import HTML\n",
    "def css_styling():\n",
    "    styles = open(\"styles/custom.css\", \"r\").read() #or edit path to custom.css\n",
    "    return HTML(styles)\n",
    "css_styling()"
   ]
  }
 ],
 "metadata": {
  "kernelspec": {
   "display_name": "Python 3 (ipykernel)",
   "language": "python",
   "name": "python3"
  },
  "language_info": {
   "codemirror_mode": {
    "name": "ipython",
    "version": 3
   },
   "file_extension": ".py",
   "mimetype": "text/x-python",
   "name": "python",
   "nbconvert_exporter": "python",
   "pygments_lexer": "ipython3",
   "version": "3.10.6"
  }
 },
 "nbformat": 4,
 "nbformat_minor": 4
}
