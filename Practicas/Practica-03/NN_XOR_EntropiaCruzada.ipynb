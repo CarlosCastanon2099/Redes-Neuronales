{
 "cells": [
  {
   "cell_type": "markdown",
   "metadata": {},
   "source": [
    "# XOR"
   ]
  },
  {
   "cell_type": "code",
   "execution_count": 1,
   "metadata": {},
   "outputs": [],
   "source": [
    "%matplotlib inline\n",
    "\n",
    "import matplotlib.pyplot as plt\n",
    "import matplotlib.cm as cm\n",
    "import json, matplotlib\n",
    "s = json.load( open(\"styles/bmh_matplotlibrc.json\") )\n",
    "matplotlib.rcParams.update(s)\n",
    "from IPython.core.pylabtools import figsize\n",
    "figsize(11, 5)\n",
    "colores = [\"#348ABD\", \"#A60628\",\"#06A628\"]"
   ]
  },
  {
   "cell_type": "code",
   "execution_count": 2,
   "metadata": {},
   "outputs": [],
   "source": [
    "from mpl_toolkits.mplot3d import Axes3D"
   ]
  },
  {
   "cell_type": "code",
   "execution_count": 3,
   "metadata": {},
   "outputs": [],
   "source": [
    "from ipywidgets import interact, interactive, fixed, interact_manual\n",
    "import ipywidgets as widgets\n",
    "from IPython.display import display"
   ]
  },
  {
   "cell_type": "code",
   "execution_count": 4,
   "metadata": {},
   "outputs": [],
   "source": [
    "import numpy as np"
   ]
  },
  {
   "cell_type": "markdown",
   "metadata": {},
   "source": [
    "## Función de activación"
   ]
  },
  {
   "cell_type": "code",
   "execution_count": 5,
   "metadata": {},
   "outputs": [],
   "source": [
    "def logistica(z):\n",
    "    \"\"\"\n",
    "    Devuelve la función logística evaluada componente por componente\n",
    "    \"\"\"\n",
    "    return 1 / (1 + np.exp(-z))"
   ]
  },
  {
   "cell_type": "code",
   "execution_count": 6,
   "metadata": {},
   "outputs": [
    {
     "data": {
      "application/vnd.jupyter.widget-view+json": {
       "model_id": "3db0fdd1052a404dadaf559c35edae09",
       "version_major": 2,
       "version_minor": 0
      },
      "text/plain": [
       "interactive(children=(Output(),), _dom_classes=('widget-interact',))"
      ]
     },
     "metadata": {},
     "output_type": "display_data"
    }
   ],
   "source": [
    "from matplotlib.pyplot import figure\n",
    "\n",
    "@interact\n",
    "def plot_log():\n",
    "    z = np.arange(-5,5,0.1)\n",
    "    figure(figsize=(4,2))\n",
    "    plt.plot(z, logistica(z))\n",
    "    plt.xlabel(\"$z$\")\n",
    "    plt.ylabel(\"$\\sigma$\")\n",
    "    plt.title(\"$\\sigma = \\\\frac{1}{1 + e^{-z}}$\")"
   ]
  },
  {
   "cell_type": "code",
   "execution_count": 6,
   "metadata": {},
   "outputs": [],
   "source": [
    "def derivada_logistica(z):\n",
    "    \"\"\"\n",
    "    Función que, dado un arreglo de valores z\n",
    "    calcula el valor de la derivada para cada entrada.\n",
    "    \"\"\"\n",
    "    g = logistica(z)\n",
    "    return g * (1 - g)"
   ]
  },
  {
   "cell_type": "code",
   "execution_count": 8,
   "metadata": {},
   "outputs": [
    {
     "data": {
      "application/vnd.jupyter.widget-view+json": {
       "model_id": "17204b8c432a488baccefe470f4554e3",
       "version_major": 2,
       "version_minor": 0
      },
      "text/plain": [
       "interactive(children=(Output(),), _dom_classes=('widget-interact',))"
      ]
     },
     "metadata": {},
     "output_type": "display_data"
    }
   ],
   "source": [
    "@interact\n",
    "def plot_logp():\n",
    "    z = np.arange(-5,5,0.1)\n",
    "    figure(figsize=(4,2))\n",
    "    plt.plot(z, derivada_logistica(z))\n",
    "    plt.xlabel(\"$z$\")\n",
    "    plt.ylabel(\"$\\sigma'$\")\n",
    "    plt.title(\"$\\sigma' = \\sigma (1-\\sigma)$\")"
   ]
  },
  {
   "cell_type": "code",
   "execution_count": 7,
   "metadata": {},
   "outputs": [],
   "source": [
    "def derivada_logistica_atajo(val_sigma):\n",
    "    \"\"\"\n",
    "    Función que, dado un arreglo de valores de sigma(z)\n",
    "    calcula el valor de la derivada para cada entrada.\n",
    "    \n",
    "    Si ya se cuenta con esos valores, es más eficiente\n",
    "    calcular esto directamente.\n",
    "    \"\"\"\n",
    "    return val_sigma * (1 - val_sigma)"
   ]
  },
  {
   "cell_type": "markdown",
   "metadata": {},
   "source": [
    "$\\frac{d\\sigma}{dz} = \\sigma(z) \\cdot (1 - \\sigma(z))$"
   ]
  },
  {
   "cell_type": "code",
   "execution_count": null,
   "metadata": {},
   "outputs": [],
   "source": [
    "@interact\n",
    "def plot_logpa():\n",
    "    z = np.arange(-5,5,0.1)\n",
    "    val = logistica(z)\n",
    "    figure(figsize=(4,2))\n",
    "    plt.plot(z, derivada_logistica_atajo(val))\n",
    "    plt.xlabel(\"$z$\")\n",
    "    plt.ylabel(\"$\\sigma'$\")\n",
    "    plt.title(\"$\\sigma' = \\sigma (1-\\sigma)$\")"
   ]
  },
  {
   "cell_type": "code",
   "execution_count": 8,
   "metadata": {},
   "outputs": [],
   "source": [
    "np.random.seed(10)"
   ]
  },
  {
   "cell_type": "markdown",
   "metadata": {},
   "source": [
    "## Función de error: Entropía cruzada\n",
    "\n",
    "La función de error más sencilla utilizada para problemas de clasificación es la **entropía cruzada**\n",
    "\\begin{align}\n",
    "  J(\\Theta) =& - \\frac{1}{m} \\left[ \\sum_{i=1}^m \\sum_{k=1}^K   y_k^{(i)} \\log(h_\\Theta(x^{(i)}))_k  + (1 - y_k^{(i)}) \\log(1 - h_\\Theta(x^{(i)}))_k   \\right]    +  \\\\\n",
    "  & \\frac{\\lambda}{2m} \\sum_{l=1}^{L-1} \\sum_{i=1}^{s_L} \\sum_{j=1}^{s_{l+1}} (\\theta_{ji}^{(l)})^2\n",
    "\\end{align}\n",
    "donde:\n",
    "  * $K$ es el número de neuronas de salida.\n",
    "  * $s_l$ es el número de neuronas en la capa $l$.\n",
    "  * $m$ es el número de ejemplares de entrenamiento.\n",
    "  \n",
    "En su forma vectorizada, las componentes del gradiente están dadas por:\n",
    "\\begin{align}\n",
    "  \\delta^{(L)} &= (A^{(L)})^T - Y  \\\\\n",
    "  \\delta^{(L-1)} &= \\delta^{(L)} \\Theta_{[:,1:]}^{(L-1)} \\circ g'(z^{(L-1)}) \\\\\n",
    "  ... \\\\\n",
    "  \\delta^{(1)} &= \\delta^{(0)} \\Theta_{[:,1:]}^{(1)} \\circ g'(z^{(1)}) \\\\\n",
    "\\end{align}\n",
    "con:\n",
    "\\begin{align}\n",
    "  g'(z^{(l)}) = A^{(l)} \\circ (1 - A^{(l)})\n",
    "\\end{align}\n",
    "en general:\n",
    "\\begin{align}\n",
    "  \\Delta^{(l)} =& (\\delta^{(l+1)})^T A^{(l)}   &   \\nabla^{(l)} =& \\frac{1}{m}\\Delta^{(l)}\n",
    "\\end{align}"
   ]
  },
  {
   "cell_type": "code",
   "execution_count": 9,
   "metadata": {},
   "outputs": [],
   "source": [
    "def cross_entropy(y, h):\n",
    "    return - y * np.log(h) - (1 - y) * np.log(1 - h)"
   ]
  },
  {
   "cell_type": "code",
   "execution_count": 11,
   "metadata": {},
   "outputs": [
    {
     "data": {
      "application/vnd.jupyter.widget-view+json": {
       "model_id": "0bf5204b104a40378e3a9053e7276d0f",
       "version_major": 2,
       "version_minor": 0
      },
      "text/plain": [
       "interactive(children=(Output(),), _dom_classes=('widget-interact',))"
      ]
     },
     "metadata": {},
     "output_type": "display_data"
    }
   ],
   "source": [
    "@interact\n",
    "def plot_crossentropy():\n",
    "    \"\"\"\n",
    "    Muestra como, en el rango donde está definida, la entropía cruzada tiene\n",
    "    sus valores más pequeños donde 'y' y 'h' coinciden, y su valor más alto\n",
    "    donde éstos son opuestos.\n",
    "    \"\"\"\n",
    "    fig = plt.figure()\n",
    "\n",
    "    #ax = fig.gca(projection='3d') # Metodo 1\n",
    "    ax = fig.add_subplot(111, projection='3d') # Metodo 2\n",
    "    # Cambio al metodo 2 porque el 1 no funciona en mi compu \n",
    "    \n",
    "    # Datos\n",
    "    X = np.arange(0.01, 1, 0.05)\n",
    "    Y = np.arange(0.01, 1, 0.05)\n",
    "    X, Y = np.meshgrid(X, Y)\n",
    "    CE = cross_entropy(X, Y)\n",
    "    \n",
    "    surf = ax.plot_surface(X, Y, CE, cmap=cm.coolwarm,\n",
    "                       linewidth=0, antialiased=False)\n",
    "    \n",
    "    ax.set_xlabel(\"$y$\")\n",
    "    ax.set_ylabel(\"$h$\")\n",
    "    ax.set_title(\"Entropía cruzada\")\n",
    "    plt.show()"
   ]
  },
  {
   "cell_type": "markdown",
   "metadata": {},
   "source": [
    "## Red neuronal\n",
    "La red implementa encadenamiento hacia adelante (para evaluar) y hacia atrás (para entrenarse)."
   ]
  },
  {
   "cell_type": "code",
   "execution_count": 12,
   "metadata": {},
   "outputs": [],
   "source": [
    "# Cuando se programa un algoritmo que depende de la generación de números aleatorios\n",
    "# es buena costumbre fijar la semilla a partir de la cual dichos números son generados.\n",
    "# De este modo el comportamiento sobre los datos de entrada será predecible mientras\n",
    "# se está desarrollando/probando el código.\n",
    "#\n",
    "# Una vez el código está listo, se debe usar variando los valores de esta semilla\n",
    "# para ver los efectos de la aleatoriedad simulada.\n",
    "\n",
    "np.random.seed(10)"
   ]
  },
  {
   "cell_type": "code",
   "execution_count": 13,
   "metadata": {},
   "outputs": [],
   "source": [
    "class Multicapa:\n",
    "    \"\"\"\n",
    "    Red neuronal con tres capas:\n",
    "    \n",
    "    Entrada\n",
    "    Oculta\n",
    "    Salida\n",
    "    \n",
    "    Los parámetros (pesos) que conectan las capas se encuentran en matrices\n",
    "    con los nombres siguientes:\n",
    "    \n",
    "    Entrada -> self.Theta_0 -> Oculta\n",
    "    Oculta  -> self.Theta_1 -> Salida\n",
    "    \"\"\"\n",
    "    def __init__(self, n_entrada, n_ocultas, n_salidas):\n",
    "        \"\"\"\n",
    "        Inicializa la red neuronal, con pesos Theta_0 y Theta_1 aleatorios,\n",
    "        esta implementación debe incluir el uso de sesgos, por lo que éstos\n",
    "        no se cuentan en los parámetros siguientes, puedes incluirlos como\n",
    "        neuronas extra o en sus propias matrices, sólo sé consistente pues\n",
    "        esto afectará tu implementación.\n",
    "        \n",
    "        :param n_entrada: número de datos de entrada (sin contar el sesgo)\n",
    "        :param n_ocultas: número de neuronas ocultas\n",
    "        :param n_salidas: número de nueronas de salida\n",
    "        \"\"\"\n",
    "        self.Theta_0 = np.random.rand(n_ocultas, n_entrada + 1) * 2 - 1\n",
    "        self.Theta_1 = np.random.rand(n_salidas, n_ocultas + 1) * 2 - 1\n",
    "        \n",
    "        \n",
    "    \n",
    "    def feed_forward(self, X, vector = None):\n",
    "        \"\"\" Calcula las salidas, dados los datos de entrada en forma de matriz.\n",
    "        Guarda los parámetros siguientes:\n",
    "        A0: activaciones de la capa de entrada, ya con sesgos\n",
    "        Z1: potenciales de la capa oculta, aún sin sesgo\n",
    "        A1: activaciones de la capa oculta, ya con sesgos\n",
    "        Z2: potenciales de la capa de salida\n",
    "        A2: activaciones de la capa de salida\n",
    "        \n",
    "        :param vector: [opcional] se utilizarán los pesos indicados en este\n",
    "                       vector en lugar de los pesos actuales de la red.\n",
    "        \"\"\"\n",
    "        if vector is None:\n",
    "            Theta_0 = self.Theta_0\n",
    "            Theta_1 = self.Theta_1\n",
    "        else:\n",
    "            Theta_0, Theta_1 = self.reconstruct_matrices(vector)\n",
    "        \n",
    "        # Añadimos el sesgo a la capa de entrada\n",
    "        A0 = np.hstack([np.ones([X.shape[0], 1]), X])\n",
    "        \n",
    "        # Potenciales y activaciones de la capa oculta\n",
    "        Z1 = A0 @ Theta_0.T\n",
    "        A1 = np.hstack([np.ones([Z1.shape[0], 1]), logistica(Z1)])\n",
    "        \n",
    "        # Potenciales y activaciones de la capa de salida\n",
    "        Z2 = A1 @ Theta_1.T\n",
    "        A2 = logistica(Z2)\n",
    "        \n",
    "        self.A0 = A0\n",
    "        self.Z1 = Z1\n",
    "        self.A1 = A1\n",
    "        self.Z2 = Z2\n",
    "        self.A2 = A2\n",
    "        \n",
    "        return A2\n",
    "        \n",
    "        \n",
    "    def back_propagate(self, X, Y, lambda_r = 0.0):\n",
    "        \"\"\" Calcula el error y su gradiente dados los pesos actuales de la red\n",
    "        y los resultados esperados.\n",
    "        \n",
    "        Guarda el error en el atributo self.error y el gradiente en matrices\n",
    "        self.Grad_1 y self.Grad_0, que tienen la misma forma de Theta_0 y Theta_1.\n",
    "        \n",
    "        :param X: matriz de entradas\n",
    "        :param Y: matriz de salidas deseadas\n",
    "        :param lambda_r: coeficiente de regularización\n",
    "        \"\"\"\n",
    "        m = X.shape[0]\n",
    "        \n",
    "        # Propagación hacia adelante\n",
    "        self.feed_forward(X)\n",
    "        \n",
    "        # Error\n",
    "        error = cross_entropy(Y, self.A2)\n",
    "        self.error = np.sum(error) / m\n",
    "        \n",
    "        # Gradiente\n",
    "        Delta_1 = np.zeros(self.Theta_1.shape)\n",
    "        Delta_0 = np.zeros(self.Theta_0.shape)\n",
    "        \n",
    "        for t in range(m):\n",
    "            a0 = self.A0[t,:]\n",
    "            z1 = self.Z1[t,:]\n",
    "            a1 = self.A1[t,:]\n",
    "            a2 = self.A2[t,:]\n",
    "            y = Y[t,:]\n",
    "            \n",
    "            d2 = a2 - y\n",
    "            d1 = (d2 @ self.Theta_1) * derivada_logistica_atajo(a1)\n",
    "            \n",
    "            Delta_1 += np.outer(d2, a1)\n",
    "            Delta_0 += np.outer(d1[1:], a0)\n",
    "        \n",
    "        self.Grad_1 = Delta_1 / m\n",
    "        self.Grad_0 = Delta_0 / m\n",
    "        \n",
    "        # Regularización\n",
    "        self.Grad_1[:,1:] += (lambda_r / m) * self.Theta_1[:,1:]\n",
    "        self.Grad_0[:,1:] += (lambda_r / m) * self.Theta_0[:,1:]\n",
    "\n",
    "\n",
    "        \n",
    "        \n",
    "    def calc_error(self, X, Y, vector, lambda_r = 0.0):\n",
    "        \"\"\"\n",
    "        Calcula el error que se cometería utilizando los pesos en 'vector' en lugar\n",
    "        de los pesos actuales de la red.\n",
    "        \n",
    "        :returns: el error\n",
    "        \"\"\"\n",
    "        Theta_0, Theta_1 = self.reconstruct_matrices(vector)\n",
    "        A2 = self.feed_forward(X, vector)\n",
    "        error = cross_entropy(Y, A2)\n",
    "        return np.sum(error) / X.shape[0]\n",
    "        \n",
    "    \n",
    "    def vector_weights(self):\n",
    "        \"\"\"\n",
    "        Acomoda a todos los parámetros en las matrices de sesgos y pesos, en un solo vector.\n",
    "        \n",
    "        :returns: vector de parámetros\n",
    "        \"\"\"\n",
    "        return np.hstack([self.Theta_0.flatten(), self.Theta_1.flatten()])\n",
    "        \n",
    "    \n",
    "    def reconstruct_matrices(self, vector):\n",
    "        \"\"\"\n",
    "        Dado un vector, rearma matrices del tamaño de las matrices de sesgos y pesos.\n",
    "        \n",
    "        :returns: matrices de parámetros\n",
    "        \"\"\"\n",
    "        n_ocultas = self.Theta_0.shape[0]\n",
    "        n_entrada = self.Theta_0.shape[1] - 1\n",
    "        n_salidas = self.Theta_1.shape[0]\n",
    "        \n",
    "        Theta_0 = vector[:n_ocultas * (n_entrada + 1)].reshape(n_ocultas, n_entrada + 1)\n",
    "        Theta_1 = vector[n_ocultas * (n_entrada + 1):].reshape(n_salidas, n_ocultas + 1)\n",
    "        \n",
    "        return Theta_0, Theta_1\n",
    "        \n",
    "        \n",
    "    def approx_gradient(self, X, Y, lambda_r = 0.0):\n",
    "        \"\"\"\n",
    "        Aproxima el valor del gradiente alrededor de los pesos actuales,\n",
    "        perturbando cada peso, uno por uno hasta estimar la variación alrededor\n",
    "        de cada peso.\n",
    "        \n",
    "        En este método se itera sobre cada peso w:\n",
    "        * Sea w - epsilon -> val1, se calcula el error e1 cometido por la red si w es\n",
    "                                   reemplazado por val1.\n",
    "        * Sea w + epsilon -> val2, se calcula el error e2 cometido por la red si w es\n",
    "                                   reemplazado por val2.\n",
    "        * La parcial correspondiente se estima como (val1 - val2)/(2 * epsilon)\n",
    "        \n",
    "        Este método sólo se utiliza para verificar que backpropagation esté bien\n",
    "        implementado, ya que en la práctica es muy lento y menos preciso.\n",
    "        \n",
    "        :returns: matrices que tienen la misma forma de Theta_0 y Theta_1, donde\n",
    "                  cada entrada es la estimación de la parcial del error con\n",
    "                  respecto al peso correspondiente\n",
    "        \"\"\"\n",
    "        epsilon = 0.0001\n",
    "        vector = self.vector_weights()\n",
    "        grad = np.zeros(vector.shape)\n",
    "        \n",
    "        for i in range(len(vector)):\n",
    "            vector[i] -= epsilon\n",
    "            e1 = self.calc_error(X, Y, vector, lambda_r)\n",
    "            vector[i] += 2 * epsilon\n",
    "            e2 = self.calc_error(X, Y, vector, lambda_r)\n",
    "            vector[i] -= epsilon\n",
    "            grad[i] = (e2 - e1) / (2 * epsilon)\n",
    "        \n",
    "        Theta_0, Theta_1 = self.reconstruct_matrices(vector)\n",
    "        return self.Grad_0, self.Grad_1\n",
    "        \n",
    "        \n",
    "    def gradient_descent(self, X, Y, alpha, ciclos=10, check_gradient = False, lambda_r = 0.0):\n",
    "        \"\"\" Evalúa y ajusta los pesos de la red, de acuerdo a los datos en X y los resultados\n",
    "        deseados en Y.  Al final grafica el error vs ciclo.  Si el entrenamiento es correcto\n",
    "        el error debe descender por cada iteración (ciclo).\n",
    "        \n",
    "        :param X: datos de entrada\n",
    "        :param Y: salidas deseadas\n",
    "        :param alpha: taza de aprendizaje\n",
    "        :param ciclos: número de veces que se realizarán ajustes para todo el conjunto de datos X\n",
    "        :param check_gradient: se calculará el gradiente con backpropagation y con aproximación por\n",
    "                               perturbaciones, imprimiendo los valores lado a lado para que puedan\n",
    "                               ser comparados.\n",
    "        :param lambda_r: coeficiente de regularización\n",
    "        \"\"\"\n",
    "        errores = []\n",
    "        for ciclo in range(ciclos):\n",
    "            self.back_propagate(X, Y, lambda_r)\n",
    "            self.Theta_0 -= alpha * self.Grad_0\n",
    "            self.Theta_1 -= alpha * self.Grad_1\n",
    "            errores.append(self.error)\n",
    "        \n",
    "        #plt.plot(errores)\n",
    "        #plt.xlabel(\"Ciclo\")\n",
    "        #plt.ylabel(\"Error\")\n",
    "        #plt.title(\"Entrenamiento\")\n",
    "        #plt.show()\n",
    "        \n",
    "        if check_gradient:\n",
    "            grad_0, grad_1 = self.approx_gradient(X, Y, lambda_r)\n",
    "            print(\"Gradiente real:\")\n",
    "            print(self.Grad_0)\n",
    "            print(self.Grad_1)\n",
    "            print(\"Gradiente aproximado:\")\n",
    "            print(grad_0)\n",
    "            print(grad_1)\n",
    "        \n",
    "        \n",
    "    def print_output(self):\n",
    "        \"\"\"\n",
    "        Muestra en pantalla los valores de salida obtenidos en la última ejecución de feed_forward.\n",
    "        \"\"\"\n",
    "        print(self.A2)\n",
    "        \n",
    "        "
   ]
  },
  {
   "cell_type": "markdown",
   "metadata": {},
   "source": [
    "# Conjunto de datos\n",
    "\n",
    "Probaremos esta red con la función más sencilla que requiere más de un perceptrón: $XOR$.\n",
    "\n",
    "Para ello requerimos una red con la arquitectura siguiente:\n",
    "\n",
    "<img src=\"figuras/xor_sin_pesos.png\">"
   ]
  },
  {
   "cell_type": "code",
   "execution_count": 20,
   "metadata": {},
   "outputs": [
    {
     "name": "stdout",
     "output_type": "stream",
     "text": [
      "[[0.64202163]\n",
      " [0.6825512 ]\n",
      " [0.68338319]\n",
      " [0.71184487]]\n"
     ]
    }
   ],
   "source": [
    "# Datos\n",
    "X = np.array([[0, 0], [0, 1], [1, 0], [1, 1]])  # Entradas\n",
    "Y = np.array([[0], [1], [1], [0]])              # Salidas deseadas\n",
    "\n",
    "# Instanciación de la red\n",
    "xor = Multicapa(2, 2, 1)\n",
    "\n",
    "# Probamos qué valores calcula con una inicialización aleatoria\n",
    "xor.feed_forward(X)\n",
    "xor.print_output()"
   ]
  },
  {
   "cell_type": "markdown",
   "metadata": {},
   "source": [
    "Para verificar si la red funciona para lo que fue diseñada, no basta con reducir el error,\n",
    "debemos evaluar si calcula la función que queremos que calcule.  En este caso, queremos\n",
    "usarla para evaluar una función binaria.  Si realizamos un redondeo, veamos cuántas respuestas\n",
    "calcula correctamente."
   ]
  },
  {
   "cell_type": "code",
   "execution_count": 21,
   "metadata": {},
   "outputs": [],
   "source": [
    "def count_correct(red, X, Y):\n",
    "    \"\"\" Conciderando que las etiquetas en Y son binarias (0 y 1)\n",
    "    la salida h de la red se tomará como 0 si h < 0.5\n",
    "    y como 1 si h >= 0.5\n",
    "    \"\"\"\n",
    "    red.feed_forward(X)\n",
    "    H = red.A2#.T                         # Ojo: dependiendo de tu implementación, podrías no querer la .T\n",
    "    H = np.rint(H)\n",
    "    print(\"H = \", H)\n",
    "    print(\"Y = \", Y)\n",
    "    c = np.count_nonzero((H - Y)==0)\n",
    "    print(\"Se calcularon correctamente \", c, \"entradas.\")"
   ]
  },
  {
   "cell_type": "code",
   "execution_count": 22,
   "metadata": {},
   "outputs": [
    {
     "name": "stdout",
     "output_type": "stream",
     "text": [
      "H =  [[1.]\n",
      " [1.]\n",
      " [1.]\n",
      " [1.]]\n",
      "Y =  [[0]\n",
      " [1]\n",
      " [1]\n",
      " [0]]\n",
      "Se calcularon correctamente  2 entradas.\n"
     ]
    }
   ],
   "source": [
    "c = count_correct(xor, X, Y)"
   ]
  },
  {
   "cell_type": "markdown",
   "metadata": {},
   "source": [
    "Para poder implementar el algoritmo de optimización, las variables a optimizar, es decir, los pesos, deben ser colocados sobre un vector (o matriz columna, en este caso).  Es necesario convertir las matrices de pesos a vector y, para usar la red, revertir el proceso, reconstruyendo las matrices a partir del vector con los pesos."
   ]
  },
  {
   "cell_type": "code",
   "execution_count": 23,
   "metadata": {},
   "outputs": [
    {
     "name": "stdout",
     "output_type": "stream",
     "text": [
      "Valores actuales de los pesos\n",
      "Theta_0:\n",
      " [[-0.2317711   0.88852142  0.97525095]\n",
      " [-0.08739091  0.65224569 -0.49725173]] \n",
      "\n",
      "Theta_1:\n",
      " [[0.1947433  0.80566352 0.0691159 ]]\n",
      "\n",
      "Matrices a vector de pesos: \n",
      "[-0.2317711   0.88852142  0.97525095 -0.08739091  0.65224569 -0.49725173\n",
      "  0.1947433   0.80566352  0.0691159 ]\n",
      "\n",
      "Reconstrucción de las matrices a partir del vector de pesos: \n",
      "[[-0.2317711   0.88852142  0.97525095]\n",
      " [-0.08739091  0.65224569 -0.49725173]] [[0.1947433  0.80566352 0.0691159 ]]\n"
     ]
    }
   ],
   "source": [
    "# Con esta casilla verifica que tus conversiones sean correctas\n",
    "\n",
    "print(\"Valores actuales de los pesos\")\n",
    "\n",
    "print(\"Theta_0:\\n\", xor.Theta_0, \"\\n\\nTheta_1:\\n\", xor.Theta_1)\n",
    "\n",
    "print(\"\\nMatrices a vector de pesos: \")\n",
    "print(xor.vector_weights())\n",
    "\n",
    "print(\"\\nReconstrucción de las matrices a partir del vector de pesos: \")\n",
    "T0, T1 = xor.reconstruct_matrices(xor.vector_weights())\n",
    "print(T0, T1)"
   ]
  },
  {
   "cell_type": "code",
   "execution_count": 24,
   "metadata": {},
   "outputs": [
    {
     "name": "stdout",
     "output_type": "stream",
     "text": [
      "Gradiente real:\n",
      "[[0.0232081  0.00527455 0.00565027]\n",
      " [0.00331492 0.00180732 0.00181099]]\n",
      "[[0.17995022 0.11393485 0.08986769]]\n",
      "Gradiente aproximado:\n",
      "[[0.0232081  0.00527455 0.00565027]\n",
      " [0.00331492 0.00180732 0.00181099]]\n",
      "[[0.17995022 0.11393485 0.08986769]]\n"
     ]
    }
   ],
   "source": [
    "# Con esta casilla revisa que backpropagation y aproximación por perturbaciones\n",
    "# den resultados semejantes.  Observa que se ejecuta sobre un solo ciclo pues es lento.\n",
    "\n",
    "xor.gradient_descent(X, Y, 0.3, 1, check_gradient = True)"
   ]
  },
  {
   "cell_type": "code",
   "execution_count": 25,
   "metadata": {},
   "outputs": [
    {
     "data": {
      "application/vnd.jupyter.widget-view+json": {
       "model_id": "2c18ab13750c42519ab4787706fc1dd5",
       "version_major": 2,
       "version_minor": 0
      },
      "text/plain": [
       "interactive(children=(IntSlider(value=1025, description='ciclos', max=2000, min=50), Button(description='Run I…"
      ]
     },
     "metadata": {},
     "output_type": "display_data"
    }
   ],
   "source": [
    "@interact_manual(ciclos = (50, 2000))\n",
    "def train_XOR(ciclos):\n",
    "    xor.gradient_descent(X, Y, 0.3, ciclos)"
   ]
  },
  {
   "cell_type": "code",
   "execution_count": 26,
   "metadata": {},
   "outputs": [
    {
     "name": "stdout",
     "output_type": "stream",
     "text": [
      "[[0.05892096]\n",
      " [0.89913479]\n",
      " [0.89957951]\n",
      " [0.15600779]]\n",
      "\n",
      "Theta_0 =  [[-2.19489735  7.04923466  5.85083934]\n",
      " [-3.86893627  2.71295782  2.61330407]] \n",
      "\n",
      "Theta_1 [[-3.35691541  7.25401578 -6.88572878]]\n"
     ]
    }
   ],
   "source": [
    "# Después de haber sido correctamente entrenada, la red debe producir salidas\n",
    "# cercanas a las deseadas.  Dado que la función de activación es la sigmoide\n",
    "# nunca llegará a 0 o 1 exactamente.\n",
    "\n",
    "xor.feed_forward(X)\n",
    "xor.print_output()\n",
    "\n",
    "print(\"\\nTheta_0 = \", xor.Theta_0, \"\\n\\nTheta_1\", xor.Theta_1)"
   ]
  },
  {
   "cell_type": "code",
   "execution_count": 27,
   "metadata": {},
   "outputs": [
    {
     "name": "stdout",
     "output_type": "stream",
     "text": [
      "H =  [[0.]\n",
      " [1.]\n",
      " [1.]\n",
      " [0.]]\n",
      "Y =  [[0]\n",
      " [1]\n",
      " [1]\n",
      " [0]]\n",
      "Se calcularon correctamente  4 entradas.\n"
     ]
    }
   ],
   "source": [
    "c = count_correct(xor, X, Y)"
   ]
  },
  {
   "cell_type": "markdown",
   "metadata": {},
   "source": [
    "## Regularización"
   ]
  },
  {
   "cell_type": "code",
   "execution_count": 28,
   "metadata": {},
   "outputs": [],
   "source": [
    "xor_reg = Multicapa(2, 2, 1)"
   ]
  },
  {
   "cell_type": "code",
   "execution_count": 29,
   "metadata": {},
   "outputs": [
    {
     "name": "stdout",
     "output_type": "stream",
     "text": [
      "H =  [[1.]\n",
      " [1.]\n",
      " [1.]\n",
      " [1.]]\n",
      "Y =  [[0]\n",
      " [1]\n",
      " [1]\n",
      " [0]]\n",
      "Se calcularon correctamente  2 entradas.\n"
     ]
    }
   ],
   "source": [
    "c = count_correct(xor_reg, X, Y)"
   ]
  },
  {
   "cell_type": "code",
   "execution_count": 30,
   "metadata": {},
   "outputs": [
    {
     "name": "stdout",
     "output_type": "stream",
     "text": [
      "Gradiente real:\n",
      "[[0.00375241 0.26295504 0.21492177]\n",
      " [0.01826393 0.09206924 0.08681811]]\n",
      "[[ 0.00341076  0.26301063 -0.23787942]]\n",
      "Gradiente aproximado:\n",
      "[[0.00375241 0.26295504 0.21492177]\n",
      " [0.01826393 0.09206924 0.08681811]]\n",
      "[[ 0.00341076  0.26301063 -0.23787942]]\n"
     ]
    }
   ],
   "source": [
    "xor.gradient_descent(X, Y, 0.3, 1, check_gradient = True, lambda_r = 0.15)"
   ]
  },
  {
   "cell_type": "code",
   "execution_count": 31,
   "metadata": {},
   "outputs": [
    {
     "data": {
      "application/vnd.jupyter.widget-view+json": {
       "model_id": "67eb9d4cbf1c4785acd3bc9b8974601d",
       "version_major": 2,
       "version_minor": 0
      },
      "text/plain": [
       "interactive(children=(IntSlider(value=1025, description='ciclos', max=2000, min=50), Button(description='Run I…"
      ]
     },
     "metadata": {},
     "output_type": "display_data"
    }
   ],
   "source": [
    "@interact_manual(ciclos = (50, 2000))\n",
    "def train_XOR_reg(ciclos):\n",
    "    # Prueba diferentes valores de lambda_r ¿qué tanto lo puedes incrementar si matar a la red?\n",
    "    xor_reg.gradient_descent(X, Y, 0.3, ciclos, lambda_r = 0.005)"
   ]
  },
  {
   "cell_type": "code",
   "execution_count": 32,
   "metadata": {},
   "outputs": [
    {
     "name": "stdout",
     "output_type": "stream",
     "text": [
      "[[0.08253996]\n",
      " [0.8792507 ]\n",
      " [0.87926819]\n",
      " [0.19441896]]\n",
      "Theta_0 =  [[ 1.79599249 -5.06405617 -5.06190722]\n",
      " [ 4.51063507 -3.06432118 -3.0639362 ]] \n",
      "Theta_1 [[-2.35760253 -6.59180485  5.66438919]]\n"
     ]
    }
   ],
   "source": [
    "xor_reg.feed_forward(X)\n",
    "xor_reg.print_output()\n",
    "print(\"Theta_0 = \", xor_reg.Theta_0, \"\\nTheta_1\", xor_reg.Theta_1)"
   ]
  },
  {
   "cell_type": "code",
   "execution_count": 33,
   "metadata": {},
   "outputs": [
    {
     "name": "stdout",
     "output_type": "stream",
     "text": [
      "H =  [[0.]\n",
      " [1.]\n",
      " [1.]\n",
      " [0.]]\n",
      "Y =  [[0]\n",
      " [1]\n",
      " [1]\n",
      " [0]]\n",
      "Se calcularon correctamente  4 entradas.\n"
     ]
    }
   ],
   "source": [
    "c = count_correct(xor_reg, X, Y)"
   ]
  },
  {
   "cell_type": "code",
   "execution_count": 34,
   "metadata": {},
   "outputs": [
    {
     "data": {
      "text/html": [
       "<style>\n",
       "    img {\n",
       "        display: block;\n",
       "\t\tmargin-left: auto;\n",
       "\t\tmargin-right: auto;\n",
       "\t}\n",
       "</style>\n"
      ],
      "text/plain": [
       "<IPython.core.display.HTML object>"
      ]
     },
     "execution_count": 34,
     "metadata": {},
     "output_type": "execute_result"
    }
   ],
   "source": [
    "from IPython.core.display import HTML\n",
    "def css_styling():\n",
    "    styles = open(\"styles/custom.css\", \"r\").read() #or edit path to custom.css\n",
    "    return HTML(styles)\n",
    "css_styling()"
   ]
  }
 ],
 "metadata": {
  "kernelspec": {
   "display_name": "Python 3",
   "language": "python",
   "name": "python3"
  },
  "language_info": {
   "codemirror_mode": {
    "name": "ipython",
    "version": 3
   },
   "file_extension": ".py",
   "mimetype": "text/x-python",
   "name": "python",
   "nbconvert_exporter": "python",
   "pygments_lexer": "ipython3",
   "version": "3.11.7"
  }
 },
 "nbformat": 4,
 "nbformat_minor": 1
}
