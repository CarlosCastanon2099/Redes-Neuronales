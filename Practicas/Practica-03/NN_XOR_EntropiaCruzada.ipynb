{
 "cells": [
  {
   "cell_type": "markdown",
   "metadata": {},
   "source": [
    "# XOR"
   ]
  },
  {
   "cell_type": "code",
   "execution_count": 15,
   "metadata": {},
   "outputs": [],
   "source": [
    "%matplotlib inline\n",
    "\n",
    "import matplotlib.pyplot as plt\n",
    "import matplotlib.cm as cm\n",
    "import json, matplotlib\n",
    "s = json.load( open(\"styles/bmh_matplotlibrc.json\") )\n",
    "matplotlib.rcParams.update(s)\n",
    "from IPython.core.pylabtools import figsize\n",
    "figsize(11, 5)\n",
    "colores = [\"#348ABD\", \"#A60628\",\"#06A628\"]"
   ]
  },
  {
   "cell_type": "code",
   "execution_count": 16,
   "metadata": {},
   "outputs": [],
   "source": [
    "from mpl_toolkits.mplot3d import Axes3D"
   ]
  },
  {
   "cell_type": "code",
   "execution_count": 17,
   "metadata": {},
   "outputs": [],
   "source": [
    "from ipywidgets import interact, interactive, fixed, interact_manual\n",
    "import ipywidgets as widgets\n",
    "from IPython.display import display"
   ]
  },
  {
   "cell_type": "code",
   "execution_count": 18,
   "metadata": {},
   "outputs": [],
   "source": [
    "import numpy as np"
   ]
  },
  {
   "cell_type": "markdown",
   "metadata": {},
   "source": [
    "## Función de activación"
   ]
  },
  {
   "cell_type": "code",
   "execution_count": 19,
   "metadata": {},
   "outputs": [],
   "source": [
    "def logistica(z):\n",
    "    \"\"\"\n",
    "    Devuelve la función logística evaluada componente por componente\n",
    "    \"\"\"\n",
    "    return 1 / (1 + np.exp(-z))"
   ]
  },
  {
   "cell_type": "code",
   "execution_count": 20,
   "metadata": {},
   "outputs": [
    {
     "data": {
      "application/vnd.jupyter.widget-view+json": {
       "model_id": "2abc072a4b9b428486b8990d92d3f9d8",
       "version_major": 2,
       "version_minor": 0
      },
      "text/plain": [
       "interactive(children=(Output(),), _dom_classes=('widget-interact',))"
      ]
     },
     "metadata": {},
     "output_type": "display_data"
    }
   ],
   "source": [
    "from matplotlib.pyplot import figure\n",
    "\n",
    "@interact\n",
    "def plot_log():\n",
    "    z = np.arange(-5,5,0.1)\n",
    "    figure(figsize=(4,2))\n",
    "    plt.plot(z, logistica(z))\n",
    "    plt.xlabel(\"$z$\")\n",
    "    plt.ylabel(\"$\\sigma$\")\n",
    "    plt.title(\"$\\sigma = \\\\frac{1}{1 + e^{-z}}$\")"
   ]
  },
  {
   "cell_type": "code",
   "execution_count": 21,
   "metadata": {},
   "outputs": [],
   "source": [
    "def derivada_logistica(z):\n",
    "    \"\"\"\n",
    "    Función que, dado un arreglo de valores z\n",
    "    calcula el valor de la derivada para cada entrada.\n",
    "    \"\"\"\n",
    "    g = logistica(z)\n",
    "    return g * (1 - g)"
   ]
  },
  {
   "cell_type": "code",
   "execution_count": 22,
   "metadata": {},
   "outputs": [
    {
     "data": {
      "application/vnd.jupyter.widget-view+json": {
       "model_id": "7eda6df482ce47179b6f89ddbd045f71",
       "version_major": 2,
       "version_minor": 0
      },
      "text/plain": [
       "interactive(children=(Output(),), _dom_classes=('widget-interact',))"
      ]
     },
     "metadata": {},
     "output_type": "display_data"
    }
   ],
   "source": [
    "@interact\n",
    "def plot_logp():\n",
    "    z = np.arange(-5,5,0.1)\n",
    "    figure(figsize=(4,2))\n",
    "    plt.plot(z, derivada_logistica(z))\n",
    "    plt.xlabel(\"$z$\")\n",
    "    plt.ylabel(\"$\\sigma'$\")\n",
    "    plt.title(\"$\\sigma' = \\sigma (1-\\sigma)$\")"
   ]
  },
  {
   "cell_type": "code",
   "execution_count": 23,
   "metadata": {},
   "outputs": [],
   "source": [
    "def derivada_logistica_atajo(val_sigma):\n",
    "    \"\"\"\n",
    "    Función que, dado un arreglo de valores de sigma(z)\n",
    "    calcula el valor de la derivada para cada entrada.\n",
    "    \n",
    "    Si ya se cuenta con esos valores, es más eficiente\n",
    "    calcular esto directamente.\n",
    "    \"\"\"\n",
    "    return val_sigma * (1 - val_sigma)"
   ]
  },
  {
   "cell_type": "markdown",
   "metadata": {},
   "source": [
    "$\\frac{d\\sigma}{dz} = \\sigma(z) \\cdot (1 - \\sigma(z))$"
   ]
  },
  {
   "cell_type": "code",
   "execution_count": 24,
   "metadata": {},
   "outputs": [
    {
     "data": {
      "application/vnd.jupyter.widget-view+json": {
       "model_id": "a7c08f2468704fdea27b91b8dc731b26",
       "version_major": 2,
       "version_minor": 0
      },
      "text/plain": [
       "interactive(children=(Output(),), _dom_classes=('widget-interact',))"
      ]
     },
     "metadata": {},
     "output_type": "display_data"
    }
   ],
   "source": [
    "@interact\n",
    "def plot_logpa():\n",
    "    z = np.arange(-5,5,0.1)\n",
    "    val = logistica(z)\n",
    "    figure(figsize=(4,2))\n",
    "    plt.plot(z, derivada_logistica_atajo(val))\n",
    "    plt.xlabel(\"$z$\")\n",
    "    plt.ylabel(\"$\\sigma'$\")\n",
    "    plt.title(\"$\\sigma' = \\sigma (1-\\sigma)$\")"
   ]
  },
  {
   "cell_type": "code",
   "execution_count": 25,
   "metadata": {},
   "outputs": [],
   "source": [
    "np.random.seed(10)"
   ]
  },
  {
   "cell_type": "markdown",
   "metadata": {},
   "source": [
    "## Función de error: Entropía cruzada\n",
    "\n",
    "La función de error más sencilla utilizada para problemas de clasificación es la **entropía cruzada**\n",
    "\\begin{align}\n",
    "  J(\\Theta) =& - \\frac{1}{m} \\left[ \\sum_{i=1}^m \\sum_{k=1}^K   y_k^{(i)} \\log(h_\\Theta(x^{(i)}))_k  + (1 - y_k^{(i)}) \\log(1 - h_\\Theta(x^{(i)}))_k   \\right]    +  \\\\\n",
    "  & \\frac{\\lambda}{2m} \\sum_{l=1}^{L-1} \\sum_{i=1}^{s_L} \\sum_{j=1}^{s_{l+1}} (\\theta_{ji}^{(l)})^2\n",
    "\\end{align}\n",
    "donde:\n",
    "  * $K$ es el número de neuronas de salida.\n",
    "  * $s_l$ es el número de neuronas en la capa $l$.\n",
    "  * $m$ es el número de ejemplares de entrenamiento.\n",
    "  \n",
    "En su forma vectorizada, las componentes del gradiente están dadas por:\n",
    "\\begin{align}\n",
    "  \\delta^{(L)} &= (A^{(L)})^T - Y  \\\\\n",
    "  \\delta^{(L-1)} &= \\delta^{(L)} \\Theta_{[:,1:]}^{(L-1)} \\circ g'(z^{(L-1)}) \\\\\n",
    "  ... \\\\\n",
    "  \\delta^{(1)} &= \\delta^{(0)} \\Theta_{[:,1:]}^{(1)} \\circ g'(z^{(1)}) \\\\\n",
    "\\end{align}\n",
    "con:\n",
    "\\begin{align}\n",
    "  g'(z^{(l)}) = A^{(l)} \\circ (1 - A^{(l)})\n",
    "\\end{align}\n",
    "en general:\n",
    "\\begin{align}\n",
    "  \\Delta^{(l)} =& (\\delta^{(l+1)})^T A^{(l)}   &   \\nabla^{(l)} =& \\frac{1}{m}\\Delta^{(l)}\n",
    "\\end{align}"
   ]
  },
  {
   "cell_type": "code",
   "execution_count": 26,
   "metadata": {},
   "outputs": [],
   "source": [
    "def cross_entropy(y, h):\n",
    "    return - y * np.log(h) - (1 - y) * np.log(1 - h)"
   ]
  },
  {
   "cell_type": "code",
   "execution_count": 30,
   "metadata": {},
   "outputs": [
    {
     "data": {
      "application/vnd.jupyter.widget-view+json": {
       "model_id": "7a33fcea63264c0c93e45a41ead8a6dc",
       "version_major": 2,
       "version_minor": 0
      },
      "text/plain": [
       "interactive(children=(Output(),), _dom_classes=('widget-interact',))"
      ]
     },
     "metadata": {},
     "output_type": "display_data"
    }
   ],
   "source": [
    "@interact\n",
    "def plot_crossentropy():\n",
    "    \"\"\"\n",
    "    Muestra como, en el rango donde está definida, la entropía cruzada tiene\n",
    "    sus valores más pequeños donde 'y' y 'h' coinciden, y su valor más alto\n",
    "    donde éstos son opuestos.\n",
    "    \"\"\"\n",
    "    fig = plt.figure()\n",
    "\n",
    "    #ax = fig.gca(projection='3d') # Metodo 1\n",
    "    ax = fig.add_subplot(111, projection='3d') # Metodo 2\n",
    "    # Cambio al metodo 2 porque el 1 no funciona en mi compu \n",
    "    \n",
    "    # Datos\n",
    "    X = np.arange(0.01, 1, 0.05)\n",
    "    Y = np.arange(0.01, 1, 0.05)\n",
    "    X, Y = np.meshgrid(X, Y)\n",
    "    CE = cross_entropy(X, Y)\n",
    "    \n",
    "    surf = ax.plot_surface(X, Y, CE, cmap=cm.coolwarm,\n",
    "                       linewidth=0, antialiased=False)\n",
    "    \n",
    "    ax.set_xlabel(\"$y$\")\n",
    "    ax.set_ylabel(\"$h$\")\n",
    "    ax.set_title(\"Entropía cruzada\")"
   ]
  },
  {
   "cell_type": "markdown",
   "metadata": {},
   "source": [
    "## Red neuronal\n",
    "La red implementa encadenamiento hacia adelante (para evaluar) y hacia atrás (para entrenarse)."
   ]
  },
  {
   "cell_type": "code",
   "execution_count": 31,
   "metadata": {},
   "outputs": [],
   "source": [
    "# Cuando se programa un algoritmo que depende de la generación de números aleatorios\n",
    "# es buena costumbre fijar la semilla a partir de la cual dichos números son generados.\n",
    "# De este modo el comportamiento sobre los datos de entrada será predecible mientras\n",
    "# se está desarrollando/probando el código.\n",
    "#\n",
    "# Una vez el código está listo, se debe usar variando los valores de esta semilla\n",
    "# para ver los efectos de la aleatoriedad simulada.\n",
    "\n",
    "np.random.seed(10)"
   ]
  },
  {
   "cell_type": "code",
   "execution_count": 15,
   "metadata": {},
   "outputs": [],
   "source": [
    "class Multicapa:\n",
    "    \"\"\"\n",
    "    Red neuronal con tres capas:\n",
    "    \n",
    "    Entrada\n",
    "    Oculta\n",
    "    Salida\n",
    "    \n",
    "    Los parámetros (pesos) que conectan las capas se encuentran en matrices\n",
    "    con los nombres siguientes:\n",
    "    \n",
    "    Entrada -> self.Theta_0 -> Oculta\n",
    "    Oculta  -> self.Theta_1 -> Salida\n",
    "    \"\"\"\n",
    "    def __init__(self, n_entrada, n_ocultas, n_salidas):\n",
    "        \"\"\"\n",
    "        Inicializa la red neuronal, con pesos Theta_0 y Theta_1 aleatorios,\n",
    "        esta implementación debe incluir el uso de sesgos, por lo que éstos\n",
    "        no se cuentan en los parámetros siguientes, puedes incluirlos como\n",
    "        neuronas extra o en sus propias matrices, sólo sé consistente pues\n",
    "        esto afectará tu implementación.\n",
    "        \n",
    "        :param n_entrada: número de datos de entrada (sin contar el sesgo)\n",
    "        :param n_ocultas: número de neuronas ocultas\n",
    "        :param n_salidas: número de nueronas de salida\n",
    "        \"\"\"\n",
    "        ## TODO\n",
    "    \n",
    "    def feed_forward(self, X, vector = None):\n",
    "        \"\"\" Calcula las salidas, dados los datos de entrada en forma de matriz.\n",
    "        Guarda los parámetros siguientes:\n",
    "        A0: activaciones de la capa de entrada, ya con sesgos\n",
    "        Z1: potenciales de la capa oculta, aún sin sesgo\n",
    "        A1: activaciones de la capa oculta, ya con sesgos\n",
    "        Z2: potenciales de la capa de salida\n",
    "        A2: activaciones de la capa de salida\n",
    "        \n",
    "        :param vector: [opcional] se utilizarán los pesos indicados en este\n",
    "                       vector en lugar de los pesos actuales de la red.\n",
    "        \"\"\"\n",
    "        ## TODO\n",
    "        \n",
    "    def back_propagate(self, X, Y, lambda_r = 0.0):\n",
    "        \"\"\" Calcula el error y su gradiente dados los pesos actuales de la red\n",
    "        y los resultados esperados.\n",
    "        \n",
    "        Guarda el error en el atributo self.error y el gradiente en matrices\n",
    "        self.Grad_1 y self.Grad_0, que tienen la misma forma de Theta_0 y Theta_1.\n",
    "        \n",
    "        :param X: matriz de entradas\n",
    "        :param Y: matriz de salidas deseadas\n",
    "        :param lambda_r: coeficiente de regularización\n",
    "        \"\"\"\n",
    "        ## TODO\n",
    "        \n",
    "    def calc_error(self, X, Y, vector, lambda_r = 0.0):\n",
    "        \"\"\"\n",
    "        Calcula el error que se cometería utilizando los pesos en 'vector' en lugar\n",
    "        de los pesos actuales de la red.\n",
    "        \n",
    "        :returns: el error\n",
    "        \"\"\"\n",
    "        ## TODO\n",
    "    \n",
    "    def vector_weights(self):\n",
    "        \"\"\"\n",
    "        Acomoda a todos los parámetros en las matrices de sesgos y pesos, en un solo vector.\n",
    "        \n",
    "        :returns: vector de parámetros\n",
    "        \"\"\"\n",
    "        ## TODO\n",
    "    \n",
    "    def reconstruct_matrices(self, vector):\n",
    "        \"\"\"\n",
    "        Dado un vector, rearma matrices del tamaño de las matrices de sesgos y pesos.\n",
    "        \n",
    "        :returns: matrices de parámetros\n",
    "        \"\"\"\n",
    "        ## TODO\n",
    "        \n",
    "    def approx_gradient(self, X, Y, lambda_r = 0.0):\n",
    "        \"\"\"\n",
    "        Aproxima el valor del gradiente alrededor de los pesos actuales,\n",
    "        perturbando cada peso, uno por uno hasta estimar la variación alrededor\n",
    "        de cada peso.\n",
    "        \n",
    "        En este método se itera sobre cada peso w:\n",
    "        * Sea w - epsilon -> val1, se calcula el error e1 cometido por la red si w es\n",
    "                                   reemplazado por val1.\n",
    "        * Sea w + epsilon -> val2, se calcula el error e2 cometido por la red si w es\n",
    "                                   reemplazado por val2.\n",
    "        * La parcial correspondiente se estima como (val1 - val2)/(2 * epsilon)\n",
    "        \n",
    "        Este método sólo se utiliza para verificar que backpropagation esté bien\n",
    "        implementado, ya que en la práctica es muy lento y menos preciso.\n",
    "        \n",
    "        :returns: matrices que tienen la misma forma de Theta_0 y Theta_1, donde\n",
    "                  cada entrada es la estimación de la parcial del error con\n",
    "                  respecto al peso correspondiente\n",
    "        \"\"\"\n",
    "        ## TODO\n",
    "        \n",
    "    def gradient_descent(self, X, Y, alpha, ciclos=10, check_gradient = False, lambda_r = 0.0):\n",
    "        \"\"\" Evalúa y ajusta los pesos de la red, de acuerdo a los datos en X y los resultados\n",
    "        deseados en Y.  Al final grafica el error vs ciclo.  Si el entrenamiento es correcto\n",
    "        el error debe descender por cada iteración (ciclo).\n",
    "        \n",
    "        :param X: datos de entrada\n",
    "        :param Y: salidas deseadas\n",
    "        :param alpha: taza de aprendizaje\n",
    "        :param ciclos: número de veces que se realizarán ajustes para todo el conjunto de datos X\n",
    "        :param check_gradient: se calculará el gradiente con backpropagation y con aproximación por\n",
    "                               perturbaciones, imprimiendo los valores lado a lado para que puedan\n",
    "                               ser comparados.\n",
    "        :param lambda_r: coeficiente de regularización\n",
    "        \"\"\"\n",
    "        ## TODO\n",
    "        \n",
    "    def print_output(self):\n",
    "        \"\"\"\n",
    "        Muestra en pantalla los valores de salida obtenidos en la última ejecución de feed_forward.\n",
    "        \"\"\"\n",
    "        ## TODO"
   ]
  },
  {
   "cell_type": "markdown",
   "metadata": {},
   "source": [
    "# Conjunto de datos\n",
    "\n",
    "Probaremos esta red con la función más sencilla que requiere más de un perceptrón: $XOR$.\n",
    "\n",
    "Para ello requerimos una red con la arquitectura siguiente:\n",
    "\n",
    "<img src=\"figuras/xor_sin_pesos.png\">"
   ]
  },
  {
   "cell_type": "code",
   "execution_count": 16,
   "metadata": {},
   "outputs": [
    {
     "name": "stdout",
     "output_type": "stream",
     "text": [
      "[[0.         0.         0.69697434]\n",
      " [0.         1.         0.71737828]\n",
      " [1.         0.         0.70117284]\n",
      " [1.         1.         0.72086962]]\n"
     ]
    }
   ],
   "source": [
    "# Datos\n",
    "X = np.array([[0, 0], [0, 1], [1, 0], [1, 1]])  # Entradas\n",
    "Y = np.array([[0], [1], [1], [0]])              # Salidas deseadas\n",
    "\n",
    "# Instanciación de la red\n",
    "xor = Multicapa(2, 2, 1)\n",
    "\n",
    "# Probamos qué valores calcula con una inicialización aleatoria\n",
    "xor.feed_forward(X)\n",
    "xor.print_output()"
   ]
  },
  {
   "cell_type": "markdown",
   "metadata": {},
   "source": [
    "Para verificar si la red funciona para lo que fue diseñada, no basta con reducir el error,\n",
    "debemos evaluar si calcula la función que queremos que calcule.  En este caso, queremos\n",
    "usarla para evaluar una función binaria.  Si realizamos un redondeo, veamos cuántas respuestas\n",
    "calcula correctamente."
   ]
  },
  {
   "cell_type": "code",
   "execution_count": 17,
   "metadata": {},
   "outputs": [],
   "source": [
    "def count_correct(red, X, Y):\n",
    "    \"\"\" Conciderando que las etiquetas en Y son binarias (0 y 1)\n",
    "    la salida h de la red se tomará como 0 si h < 0.5\n",
    "    y como 1 si h >= 0.5\n",
    "    \"\"\"\n",
    "    red.feed_forward(X)\n",
    "    H = red.A2.T                         # Ojo: dependiendo de tu implementación, podrías no querer la .T\n",
    "    H = np.rint(H)\n",
    "    print(\"H = \", H)\n",
    "    print(\"Y = \", Y)\n",
    "    c = np.count_nonzero((H - Y)==0)\n",
    "    print(\"Se calcularon correctamente \", c, \"entradas.\")"
   ]
  },
  {
   "cell_type": "code",
   "execution_count": 18,
   "metadata": {},
   "outputs": [
    {
     "name": "stdout",
     "output_type": "stream",
     "text": [
      "H =  [[1.]\n",
      " [1.]\n",
      " [1.]\n",
      " [1.]]\n",
      "Y =  [[0]\n",
      " [1]\n",
      " [1]\n",
      " [0]]\n",
      "Se calcularon correctamente  2 entradas.\n"
     ]
    }
   ],
   "source": [
    "c = count_correct(xor, X, Y)"
   ]
  },
  {
   "cell_type": "markdown",
   "metadata": {},
   "source": [
    "Para poder implementar el algoritmo de optimización, las variables a optimizar, es decir, los pesos, deben ser colocados sobre un vector (o matriz columna, en este caso).  Es necesario convertir las matrices de pesos a vector y, para usar la red, revertir el proceso, reconstruyendo las matrices a partir del vector con los pesos."
   ]
  },
  {
   "cell_type": "code",
   "execution_count": 19,
   "metadata": {},
   "outputs": [
    {
     "name": "stdout",
     "output_type": "stream",
     "text": [
      "Valores actuales de los pesos\n",
      "Theta_0:\n",
      " [[0.77132064 0.02075195 0.63364823]\n",
      " [0.74880388 0.49850701 0.22479665]] \n",
      "\n",
      "Theta_1:\n",
      " [[0.19806286 0.76053071 0.16911084]]\n",
      "\n",
      "Matrices a vector de pesos: \n",
      "[[0.77132064]\n",
      " [0.02075195]\n",
      " [0.63364823]\n",
      " [0.74880388]\n",
      " [0.49850701]\n",
      " [0.22479665]\n",
      " [0.19806286]\n",
      " [0.76053071]\n",
      " [0.16911084]]\n",
      "\n",
      "Reconstrucción de las matrices a partir del vector de pesos: \n",
      "[[0.77132064 0.02075195 0.63364823]\n",
      " [0.74880388 0.49850701 0.22479665]] [[0.19806286 0.76053071 0.16911084]]\n"
     ]
    }
   ],
   "source": [
    "# Con esta casilla verifica que tus conversiones sean correctas\n",
    "\n",
    "print(\"Valores actuales de los pesos\")\n",
    "\n",
    "print(\"Theta_0:\\n\", xor.Theta_0, \"\\n\\nTheta_1:\\n\", xor.Theta_1)\n",
    "\n",
    "print(\"\\nMatrices a vector de pesos: \")\n",
    "print(xor.vector_weights())\n",
    "\n",
    "print(\"\\nReconstrucción de las matrices a partir del vector de pesos: \")\n",
    "T0, T1 = xor.reconstruct_matrices(xor.vector_weights())\n",
    "print(T0, T1)"
   ]
  },
  {
   "cell_type": "code",
   "execution_count": 20,
   "metadata": {},
   "outputs": [
    {
     "name": "stdout",
     "output_type": "stream",
     "text": [
      "Grad 0 =  [[0.0293725  0.00922161 0.01291035]\n",
      " [0.00648158 0.00243598 0.00224845]] \n",
      "Approx =  [[0.0293725  0.00922161 0.01291035]\n",
      " [0.00648158 0.00243598 0.00224845]] \n",
      "Diff =  [[ 1.68121350e-11 -3.56208986e-12  2.38570969e-12]\n",
      " [ 2.19155423e-12 -4.13290496e-13 -1.36334607e-12]] \n",
      "Grad 1 =  [[0.20909877 0.15629306 0.15556282]] \n",
      "Approx =  [[0.20909877 0.15629306 0.15556282]] \n",
      "Diff =  [[1.43075829e-10 6.12830897e-11 6.26605989e-11]]\n"
     ]
    }
   ],
   "source": [
    "# Con esta casilla revisa que backpropagation y aproximación por perturbaciones\n",
    "# den resultados semejantes.  Observa que se ejecuta sobre un solo ciclo pues es lento.\n",
    "\n",
    "xor.gradient_descent(X, Y, 0.3, 1, check_gradient = True)"
   ]
  },
  {
   "cell_type": "code",
   "execution_count": 21,
   "metadata": {},
   "outputs": [
    {
     "data": {
      "application/vnd.jupyter.widget-view+json": {
       "model_id": "94702304449b4f4faa4382fabaae6a8e",
       "version_major": 2,
       "version_minor": 0
      },
      "text/plain": [
       "interactive(children=(IntSlider(value=1025, description='ciclos', max=2000, min=50), Button(description='Run I…"
      ]
     },
     "metadata": {},
     "output_type": "display_data"
    }
   ],
   "source": [
    "@interact_manual(ciclos = (50, 2000))\n",
    "def train_XOR(ciclos):\n",
    "    xor.gradient_descent(X, Y, 0.3, ciclos)"
   ]
  },
  {
   "cell_type": "code",
   "execution_count": 22,
   "metadata": {},
   "outputs": [
    {
     "name": "stdout",
     "output_type": "stream",
     "text": [
      "[[0.         0.         0.0953622 ]\n",
      " [0.         1.         0.86271536]\n",
      " [1.         0.         0.86365152]\n",
      " [1.         1.         0.20019896]]\n",
      "\n",
      "Theta_0 =  [[-1.95332339  5.82298199  5.45721343]\n",
      " [-3.69098754  2.53592719  2.49261141]] \n",
      "\n",
      "Theta_1 [[-2.88653165  6.31829974 -6.08046539]]\n"
     ]
    }
   ],
   "source": [
    "# Después de haber sido correctamente entrenada, la red debe producir salidas\n",
    "# cercanas a las deseadas.  Dado que la función de activación es la sigmoide\n",
    "# nunca llegará a 0 o 1 exactamente.\n",
    "\n",
    "xor.feed_forward(X)\n",
    "xor.print_output()\n",
    "\n",
    "print(\"\\nTheta_0 = \", xor.Theta_0, \"\\n\\nTheta_1\", xor.Theta_1)"
   ]
  },
  {
   "cell_type": "code",
   "execution_count": 23,
   "metadata": {},
   "outputs": [
    {
     "name": "stdout",
     "output_type": "stream",
     "text": [
      "H =  [[0.]\n",
      " [1.]\n",
      " [1.]\n",
      " [0.]]\n",
      "Y =  [[0]\n",
      " [1]\n",
      " [1]\n",
      " [0]]\n",
      "Se calcularon correctamente  4 entradas.\n"
     ]
    }
   ],
   "source": [
    "c = count_correct(xor, X, Y)"
   ]
  },
  {
   "cell_type": "markdown",
   "metadata": {},
   "source": [
    "## Regularización"
   ]
  },
  {
   "cell_type": "code",
   "execution_count": 24,
   "metadata": {},
   "outputs": [],
   "source": [
    "xor_reg = Multicapa(2, 2, 1)"
   ]
  },
  {
   "cell_type": "code",
   "execution_count": 25,
   "metadata": {},
   "outputs": [
    {
     "name": "stdout",
     "output_type": "stream",
     "text": [
      "H =  [[1.]\n",
      " [1.]\n",
      " [1.]\n",
      " [1.]]\n",
      "Y =  [[0]\n",
      " [1]\n",
      " [1]\n",
      " [0]]\n",
      "Se calcularon correctamente  2 entradas.\n"
     ]
    }
   ],
   "source": [
    "c = count_correct(xor_reg, X, Y)"
   ]
  },
  {
   "cell_type": "code",
   "execution_count": 26,
   "metadata": {},
   "outputs": [
    {
     "name": "stdout",
     "output_type": "stream",
     "text": [
      "Grad 0 =  [[0.00595249 0.21407793 0.19852612]\n",
      " [0.02135489 0.08273774 0.0805119 ]] \n",
      "Approx =  [[0.00595249 0.21407793 0.19852612]\n",
      " [0.02135489 0.08273774 0.0805119 ]] \n",
      "Diff =  [[-3.59733354e-11  8.05347455e-12  1.34698086e-11]\n",
      " [-1.10373738e-10  2.06702988e-11  2.38678244e-11]] \n",
      "Grad 1 =  [[ 0.00548201  0.22323298 -0.20391396]] \n",
      "Approx =  [[ 0.00548201  0.22323298 -0.20391396]] \n",
      "Diff =  [[ 2.73016332e-12  2.47019349e-11 -1.99884553e-11]]\n"
     ]
    }
   ],
   "source": [
    "xor.gradient_descent(X, Y, 0.3, 1, check_gradient = True, lambda_r = 0.15)"
   ]
  },
  {
   "cell_type": "code",
   "execution_count": 27,
   "metadata": {},
   "outputs": [
    {
     "data": {
      "application/vnd.jupyter.widget-view+json": {
       "model_id": "ad77d553b43b491dbe1c615fd2fb2359",
       "version_major": 2,
       "version_minor": 0
      },
      "text/plain": [
       "interactive(children=(IntSlider(value=1025, description='ciclos', max=2000, min=50), Button(description='Run I…"
      ]
     },
     "metadata": {},
     "output_type": "display_data"
    }
   ],
   "source": [
    "@interact_manual(ciclos = (50, 2000))\n",
    "def train_XOR_reg(ciclos):\n",
    "    # Prueba diferentes valores de lambda_r ¿qué tanto lo puedes incrementar si matar a la red?\n",
    "    xor_reg.gradient_descent(X, Y, 0.3, ciclos, lambda_r = 0.005)"
   ]
  },
  {
   "cell_type": "code",
   "execution_count": 28,
   "metadata": {},
   "outputs": [
    {
     "name": "stdout",
     "output_type": "stream",
     "text": [
      "[[0.         0.         0.20947461]\n",
      " [0.         1.         0.60845306]\n",
      " [1.         0.         0.63578778]\n",
      " [1.         1.         0.57088641]]\n",
      "Theta_0 =  [[-0.78528765  3.61203011  3.67129172]\n",
      " [-0.73680114  0.76181636  1.01854523]] \n",
      "Theta_1 [[-1.79868704  3.56551239 -1.99583647]]\n"
     ]
    }
   ],
   "source": [
    "xor_reg.feed_forward(X)\n",
    "xor_reg.print_output()\n",
    "print(\"Theta_0 = \", xor_reg.Theta_0, \"\\nTheta_1\", xor_reg.Theta_1)"
   ]
  },
  {
   "cell_type": "code",
   "execution_count": 29,
   "metadata": {},
   "outputs": [
    {
     "name": "stdout",
     "output_type": "stream",
     "text": [
      "H =  [[0.]\n",
      " [1.]\n",
      " [1.]\n",
      " [1.]]\n",
      "Y =  [[0]\n",
      " [1]\n",
      " [1]\n",
      " [0]]\n",
      "Se calcularon correctamente  3 entradas.\n"
     ]
    }
   ],
   "source": [
    "c = count_correct(xor_reg, X, Y)"
   ]
  },
  {
   "cell_type": "code",
   "execution_count": 30,
   "metadata": {},
   "outputs": [
    {
     "data": {
      "text/html": [
       "<style>\n",
       "    img {\n",
       "        display: block;\n",
       "\t\tmargin-left: auto;\n",
       "\t\tmargin-right: auto;\n",
       "\t}\n",
       "</style>\n"
      ],
      "text/plain": [
       "<IPython.core.display.HTML object>"
      ]
     },
     "execution_count": 30,
     "metadata": {},
     "output_type": "execute_result"
    }
   ],
   "source": [
    "from IPython.core.display import HTML\n",
    "def css_styling():\n",
    "    styles = open(\"styles/custom.css\", \"r\").read() #or edit path to custom.css\n",
    "    return HTML(styles)\n",
    "css_styling()"
   ]
  },
  {
   "cell_type": "code",
   "execution_count": null,
   "metadata": {},
   "outputs": [],
   "source": []
  }
 ],
 "metadata": {
  "kernelspec": {
   "display_name": "Python 3",
   "language": "python",
   "name": "python3"
  },
  "language_info": {
   "codemirror_mode": {
    "name": "ipython",
    "version": 3
   },
   "file_extension": ".py",
   "mimetype": "text/x-python",
   "name": "python",
   "nbconvert_exporter": "python",
   "pygments_lexer": "ipython3",
   "version": "3.11.4"
  }
 },
 "nbformat": 4,
 "nbformat_minor": 1
}
