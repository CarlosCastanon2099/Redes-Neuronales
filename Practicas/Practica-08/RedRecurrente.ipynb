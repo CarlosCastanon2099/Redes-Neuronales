{
 "cells": [
  {
   "cell_type": "markdown",
   "metadata": {},
   "source": [
    "# Rede neuronal recurrente\n",
    "\n",
    "En está práctica construiremos una red neuronal recurrente para generación de texto.\n",
    "\n",
    "Puedes descargar un conjunto de datos sobre nombres en distintos idiomas aqui: https://download.pytorch.org/tutorial/data.zip\n",
    "\n",
    "El conjunto de datos consta de nombres en 18 idiomas, se encuentran en archivos .txt \n",
    "con el nombre del idioma en el que se encuentran.\n",
    "\n",
    "**Punto extra**: Modifica el conjunto de datos a uno de tu propia elección, con al menos dos categorias."
   ]
  },
  {
   "cell_type": "code",
   "execution_count": 1,
   "metadata": {},
   "outputs": [],
   "source": [
    "from __future__ import unicode_literals, print_function, division\n",
    "from io import open\n",
    "import glob\n",
    "import os\n",
    "import unicodedata\n",
    "import string\n",
    "import torch\n",
    "import torch.nn as nn"
   ]
  },
  {
   "cell_type": "markdown",
   "metadata": {},
   "source": [
    "**Lectura de datos.** Dado que en este caso nuestros datos vienen en texto, necesitaremos realizar un \n",
    "proceso diferente para obtener los datos."
   ]
  },
  {
   "cell_type": "code",
   "execution_count": 2,
   "metadata": {},
   "outputs": [
    {
     "name": "stdout",
     "output_type": "stream",
     "text": [
      "Número de categorias: 18 ['Arabic', 'Chinese', 'Czech', 'Dutch', 'English', 'French', 'German', 'Greek', 'Irish', 'Italian', 'Japanese', 'Korean', 'Polish', 'Portuguese', 'Russian', 'Scottish', 'Spanish', 'Vietnamese']\n"
     ]
    }
   ],
   "source": [
    "all_letters = string.ascii_letters + \" .,;'-\"\n",
    "n_letters = len(all_letters) + 1 # más uno para marcar el final.\n",
    "\n",
    "# Función auxiliar que devuelve los nombres de los archivos de una carpeta.\n",
    "def findFiles(path): return glob.glob(path)\n",
    "\n",
    "def unicodeToAscii(s):\n",
    "    '''\n",
    "    Función auxiliar para transformar elementos de UNICODE a ASCII\n",
    "    '''\n",
    "    return ''.join(\n",
    "        c for c in unicodedata.normalize('NFD', s)\n",
    "        if unicodedata.category(c) != 'Mn'\n",
    "        and c in all_letters\n",
    "    )\n",
    "\n",
    "def readLines(filename):\n",
    "    '''\n",
    "    Función auxiliar para leer las lineas \n",
    "    '''\n",
    "    lines = open(filename, encoding='utf-8').read().strip().split('\\n')\n",
    "    return [unicodeToAscii(line) for line in lines]\n",
    "\n",
    "category_lines = {}\n",
    "all_categories = []\n",
    "\n",
    "# Itera entre los nombres de tus archivos usando findFiles. \n",
    "# Agrega cada uno de los nombres a la lista 'all_categories', eliminando la extención del archivo, \n",
    "# para ello puedes usar la función de os.path llamada splitext. \n",
    "# Lee las lineas del archivo y agregalas como lista al diccionario, usando como llave a la categoria de donde procede.\n",
    "\n",
    "for filename in findFiles('data/names/*.txt'):\n",
    "    category = os.path.splitext(os.path.basename(filename))[0]\n",
    "    all_categories.append(category)\n",
    "    lines = readLines(filename)\n",
    "    category_lines[category] = lines\n",
    "\n",
    "# Verificamos que todo se encuentre correctamente, e imprimimos cuantas categorias tienen los datos.\n",
    "n_categories = len(all_categories)\n",
    "\n",
    "if n_categories == 0:\n",
    "    raise RuntimeError('Datos no encontrados..')\n",
    "\n",
    "print('Número de categorias:', n_categories, all_categories)"
   ]
  },
  {
   "cell_type": "markdown",
   "metadata": {},
   "source": [
    "## Red neuronal recurrente.\n",
    "\n",
    "El objetivo de esta red es poder generar texto a partir de un elemento de entrada. Para ello necesitaremos \n",
    "que por cada entrada de la red, nos de como resultado una nueva letra. Sin embargo, como es una red\n",
    "recurrente, también tendremos un elemento que pasará integro entre una capa y la siguiente, el cual será una\n",
    "salida intermedia donde, esperadamente, podamos tener los datos de la configuarición hasta ahora. **Definiremos\n",
    "el tamaño de está salida intermedia como 128**\n",
    "\n",
    "La red se compondrá de la siguiente manera:\n",
    "- Una capa completamente conectada, en donde entre la categoría a la que pertenece el elemento en one-hot encoding, la letra que trataremos en formato one-hot encoding, y el elemento intermedio obtenido por la red en el tiempo anterior. Esta capa dará como resultado la codifición intermedia, a la que llamaremos *hidden*. \n",
    "- Una capa completamente conecta donde entrará la categoría a la que pertenece el elemento en one-hot encoding, la letra que recibiremos en one-hot encoding, y el elemento intermedio obtenido en el tiempo anterior. Dara como resultado la cantidad de elementos que tendremos como salida de la red, en este casó, será el mismo tamaño que la representación de las letras en one-hot encoding.\n",
    "- Una capa donde combinemos los resultados de las dos capas antriores. y obtengamos como resultado una letra en formato one-hot encoding, la cual será el elemento que necesitaremos como salida de nuestra red.\n",
    "- Una capa de *Dropout* con una probabilidad 0.1 de activarse.\n",
    "- Pasaremos la salida por una función *LogSoftmax*\n",
    "\n",
    "Estos elementos se conectarán de la siguiente manera:\n",
    "- Concatenaremos las entradas de la red en en un único tensor, con el cual alimentaremos a las primeras dos capas. Estpas capas no se conectan entre si.\n",
    "- Concatenaremos estás dos salidas en un único tensor con el cual alimentaremos a la segunda capa. Entre estás dos capas no hay una función de activación.\n",
    "- A está última capa aplicaremos la función *Dropout*.\n",
    "- Al resultado del *Dropout* le aplicaremos la función *LogSoftmax*."
   ]
  },
  {
   "cell_type": "code",
   "execution_count": null,
   "metadata": {},
   "outputs": [],
   "source": [
    "class RNN(nn.Module):\n",
    "    def __init__(self, input_size, hidden_size, output_size):\n",
    "        '''\n",
    "        Define las capas de la red, y las funciónes que usaremos. También guarda \n",
    "        como atributo del modelo también hidden_size, ya que será útil.\n",
    "        '''\n",
    "        super(RNN, self).__init__()\n",
    "        pass\n",
    "\n",
    "    def forward(self, category, input, hidden):\n",
    "        '''\n",
    "        Define la forma en la que se aplicará el feedforward respecto a lo explicado anteriormente.\n",
    "        Regresa como resultado tanto la letra obtenida por la tercer capa como la representación \n",
    "        intermedia obtenida en la primer capa.\n",
    "        '''\n",
    "        pass\n",
    "    \n",
    "    def initHidden(self):\n",
    "        '''\n",
    "        Debido a que necesitamos un valor de hidden para usar la red, definimos al valor en el tiempo -1 como\n",
    "        un tensor de ceros.\n",
    "        '''\n",
    "        pass\n"
   ]
  },
  {
   "cell_type": "code",
   "execution_count": null,
   "metadata": {},
   "outputs": [],
   "source": [
    "import random\n",
    "\n",
    "def randomChoice(l):\n",
    "    '''\n",
    "    Función para obtener un elemento aleatorio de una lista.\n",
    "    '''\n",
    "    return l[random.randint(0, len(l) - 1)]\n",
    "\n",
    "def randomTrainingPair():\n",
    "    '''\n",
    "    Función para obtener una muestra aleatoria de una categoria aleatoria.\n",
    "    '''\n",
    "    category = randomChoice(all_categories)\n",
    "    line = randomChoice(category_lines[category])\n",
    "    return category, line"
   ]
  },
  {
   "cell_type": "code",
   "execution_count": null,
   "metadata": {},
   "outputs": [],
   "source": [
    "def categoryTensor(category):\n",
    "    '''\n",
    "    Define una función para obtener la representación en one-hot encoding a partir de la posición\n",
    "    de la categoría.\n",
    "    '''\n",
    "\n",
    "    pass\n",
    "\n",
    "def inputTensor(line):\n",
    "    '''\n",
    "    Define una función para obtener la representación en one-hot encoding de cada una de las letras\n",
    "    que conforman una línea. Define como resultado un tensor de dimensiones (# letras en la linea, 1, # letras).\n",
    "    Puedes obtener la letra a partir del string con todas las letras anteriormente definido, y usando el método\n",
    "    find.\n",
    "    '''\n",
    "    pass\n",
    "\n",
    "def targetTensor(line):\n",
    "    '''\n",
    "    Define una función donde tengas los indices de cada una de las letras de una linea,\n",
    "    y agrega al final de la lista el valor para finalizar, el cual es igual al número de\n",
    "    letras, ya que estamos contando a parir de 0. Regresa esta lista como un LongTensor.\n",
    "    '''\n",
    "    pass"
   ]
  },
  {
   "cell_type": "code",
   "execution_count": null,
   "metadata": {},
   "outputs": [],
   "source": [
    "def randomTrainingExample():\n",
    "    '''\n",
    "    Usando como base las funciones anteriores, define una función para obtener un ejemplar \n",
    "    de entrenamiento aleatorio. Regresa como resultado la categoría a la que pertenece\n",
    "    en one-hot encoding, las letras de la linea en one-hot encoding, y los valores \n",
    "    esperados correctos de está linea, como un LongTensor.\n",
    "    '''\n",
    "    pass"
   ]
  },
  {
   "cell_type": "code",
   "execution_count": null,
   "metadata": {},
   "outputs": [],
   "source": [
    "def train(category_tensor, input_line_tensor, target_line_tensor, rnn, criterion, optimizer):\n",
    "    '''\n",
    "    Define una función de entrenamiento únicamente para una linea. Para ello debes iterar entre los\n",
    "    elementos de la linea, e ir sumando los errores obtenidos. Recuerda que antes de leer la palabra\n",
    "    debes de inicializar el valor de hidden. Para poder convertir a un tensor únidimensional a \n",
    "    un vector columna puedes utilizar la función unqueeze_().\n",
    "    \n",
    "    Para cada letra de la palabra debes obtener su resultado tras pasarlo por la red, junto a su categoria \n",
    "    y el hidden obtenido anteriormente. Y como resultado debes obtener la siguiente letra y el nuevo valor\n",
    "    de hidden. Luego obten el error de tu resultado y sumalo a tu error actual.\n",
    "    \n",
    "    Al finalizar la palabra realiza un paso del optmizador.\n",
    "    \n",
    "    Retorna el valor de tu loss, dividido entre la cantidad de letras que tenia tu palabra.\n",
    "    '''\n",
    "    pass"
   ]
  },
  {
   "cell_type": "code",
   "execution_count": null,
   "metadata": {},
   "outputs": [],
   "source": [
    "import time\n",
    "import math\n",
    "\n",
    "def timeSince(since):\n",
    "    '''\n",
    "    Función auxiliar, nos servirá para monitorizar el tiempo que hemos entrenado.\n",
    "    '''\n",
    "    now = time.time()\n",
    "    s = now - since\n",
    "    m = math.floor(s / 60)\n",
    "    s -= m * 60\n",
    "    return '%dm %ds' % (m, s)"
   ]
  },
  {
   "cell_type": "code",
   "execution_count": null,
   "metadata": {},
   "outputs": [],
   "source": [
    "import matplotlib.pyplot as plt\n",
    "\n",
    "rnn = RNN(n_letters, 128, n_letters)\n",
    "\n",
    "n_iters = 100000\n",
    "print_every = 5000\n",
    "plot_every = 5000\n",
    "all_losses = []\n",
    "total_loss = 0 # Reset every plot_every iters\n",
    "\n",
    "criterion = nn.NLLLoss()\n",
    "\n",
    "learning_rate = 0.0005\n",
    "\n",
    "optimizer = torch.optim.SGD(rnn.parameters(),learning_rate)\n",
    "\n",
    "start = time.time()\n",
    "\n",
    "# Define un entrenamiento donde en cada iteración tomemos un elemento al azar de nuestro conjunto de datos.\n",
    "# donde iteres el número de veces definido anteriormente. Suma los errores obtenidos hasta el momento, y \n",
    "# descargalos en la lista all_losses cada que pasan plot_every iteraciones, dividelo por la cantidad \n",
    "# elementos que sumaste. Imprime cada print_every el porcentaje del entrenamiento que has realizado, \n",
    "# así como cuanto tiempo lo has realizado. Al finalizar muestra la gráfica resultante de all_losses. Y \n",
    "# guarda tus pesos hasta el momento.\n",
    "\n",
    "\n",
    "# TODO\n"
   ]
  },
  {
   "cell_type": "code",
   "execution_count": null,
   "metadata": {},
   "outputs": [],
   "source": [
    "max_length = 20\n",
    "\n",
    "def sample(category, start_letter='A'):\n",
    "    '''\n",
    "    Define una función con la cual puedas obtener un nombre generado por tu red. Dode pongas como \n",
    "    inicio a la letra que selecciones en start_letter, y continues obteniendo letras a partir de ahí.\n",
    "    Selecciona un tamaño máximo al cual pueda imprimir, en caso de que tu red nunca decida seleccionar\n",
    "    el final de la linea.\n",
    "    \n",
    "    Regresa como resultado la palabra obtenida en formato string.\n",
    "    '''\n",
    "    pass"
   ]
  },
  {
   "cell_type": "markdown",
   "metadata": {},
   "source": [
    "Para finalizar, muestra una palabra obtenida de cada categoria."
   ]
  },
  {
   "cell_type": "code",
   "execution_count": null,
   "metadata": {},
   "outputs": [],
   "source": []
  }
 ],
 "metadata": {
  "kernelspec": {
   "display_name": "Python 3",
   "language": "python",
   "name": "python3"
  },
  "language_info": {
   "codemirror_mode": {
    "name": "ipython",
    "version": 3
   },
   "file_extension": ".py",
   "mimetype": "text/x-python",
   "name": "python",
   "nbconvert_exporter": "python",
   "pygments_lexer": "ipython3",
   "version": "3.11.7"
  }
 },
 "nbformat": 4,
 "nbformat_minor": 2
}
