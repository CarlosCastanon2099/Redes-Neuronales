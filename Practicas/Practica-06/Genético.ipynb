{
 "cells": [
  {
   "cell_type": "markdown",
   "metadata": {},
   "source": [
    "## Entrenamiento con algoritmos genéticos \n",
    "\n",
    "Para esté entrenamiento usaremos como base el artículo *Training  Feedforward  Neural  Networks  Using  Genetic  Algorithms*. En está práctica replicaremos el experimento número 5.\n",
    "\n",
    "En lugar de la base de datos que se usa en el artículo tomarémos un conjunto de donde se \n",
    "determina la calidad de un vino dependiendo de sus mediciones fisicoquímicas. La puedes descargar de\n",
    "https://archive.ics.uci.edu/ml/machine-learning-databases/wine-quality/\n",
    "Usaremos los datos de vino blanco.\n",
    "\n",
    "Los datos se componen de diez valores reales, que corresponenden a sus características fisicoquímicas del vino,\n",
    "y un entero, que corresponde a su calidad, está etiqueta tiene valores entre 3 y 9."
   ]
  },
  {
   "cell_type": "code",
   "execution_count": null,
   "metadata": {},
   "outputs": [],
   "source": [
    "%matplotlib inline\n",
    "\n",
    "import matplotlib.pyplot as plt\n",
    "import matplotlib.cm as cm\n",
    "import json, matplotlib\n",
    "s = json.load( open(\"styles/bmh_matplotlibrc.json\") )\n",
    "matplotlib.rcParams.update(s)\n",
    "from IPython.core.pylabtools import figsize\n",
    "figsize(11, 5)\n",
    "colores = [\"#348ABD\", \"#A60628\",\"#06A628\"]"
   ]
  },
  {
   "cell_type": "code",
   "execution_count": null,
   "metadata": {},
   "outputs": [],
   "source": [
    "import torch\n",
    "import torch.nn as nn\n",
    "import torch.optim as optim\n",
    "import numpy as np"
   ]
  },
  {
   "cell_type": "code",
   "execution_count": null,
   "metadata": {},
   "outputs": [],
   "source": [
    "class Gen_net(nn.Module):\n",
    "    '''\n",
    "    Definimos un modelo de red neuronal sobre el cual podamos \n",
    "    evaluar el algoritmo genético.\n",
    "    '''\n",
    "    def __init__(self, in_features, hidden_1, hidden_2, out_features):\n",
    "        '''\n",
    "        Define la estructura de la red como se define en el articulo.\n",
    "        Ten en cuenta que, dado que no usamos el mismo conjunto de datos\n",
    "        los valores de in_features y out_features se verán afectados.\n",
    "        Agregar como parámetros estos valores te puede ayudar a reconstruir\n",
    "        la red a partir de un cromosoma.\n",
    "        '''\n",
    "        pass\n",
    "    def forward(self, X):\n",
    "        '''\n",
    "        Define la función de feed forward, a partir de los datos\n",
    "        de X. Usa una sigmoide entre las capas.\n",
    "        '''\n",
    "        pass\n",
    "\n",
    "    def build_from_chromosome(self, chromosome):\n",
    "        '''\n",
    "        Define una función para que a partir de un cromosoma modifiques los \n",
    "        pesos de la red.        \n",
    "        '''\n",
    "        pass\n",
    "        \n",
    "    def training(self, X, Y, optimizer):\n",
    "        '''\n",
    "        Define una función de entrenamiento como en la práctica anterior, pero utilizando la misma \n",
    "        función de error que se usa para obtener el fitness.\n",
    "        '''\n",
    "        pass\n"
   ]
  },
  {
   "cell_type": "code",
   "execution_count": null,
   "metadata": {},
   "outputs": [],
   "source": [
    "class Gen_train():\n",
    "    '''\n",
    "    Define la estructura del algortimo genético\n",
    "    '''\n",
    "    def __init__(self, model, parent_scalar, operator_probabilities, population_size):\n",
    "        '''\n",
    "        Define las propiedades del algortimo como se describe en el artículo.\n",
    "        Usa el parametro model para tener un ejemplar de la red sobre la cual puedas\n",
    "        realizar las operaciones necesarias.\n",
    "        Incializa la población utilizando una distribución t\n",
    "        '''\n",
    "        pass\n",
    "        \n",
    "    def get_weights(self, element):\n",
    "        '''\n",
    "        Función para obtener las matrices de pesos a partir de un elemento de la población.\n",
    "        Debe tener las mismas dimenciónes que los pesos para la red.\n",
    "        '''\n",
    "        pass\n",
    "\n",
    "    def set_chromosome(self, w1, w2, w3, element):\n",
    "        '''\n",
    "        Función para actualizar un elemento de la población a partir de los pesos que determinan \n",
    "        a una red. Se actualizará el ejemplar de la población que se encuentre en la posición\n",
    "        element.\n",
    "        '''\n",
    "        pass\n",
    "    \n",
    "    def fitness(self, X, Y, element):\n",
    "        '''\n",
    "        Función para determinar la adecuación de un elemento de la población. \n",
    "        En esté caso, la adecuación nos servirá para determinar los elementos\n",
    "        más aptos. Para está implementación se considerará que una adecuación \n",
    "        menor será de un menor individuo, por lo que tendrá mayores \n",
    "        probabilidades de reproducirse.        \n",
    "        '''\n",
    "        pass\n",
    "    \n",
    "    ## Define las operaciónes que se usan en el experimento número 5 del artículo.\n",
    "    ## Todas las definiciones de los operadores se encuentrán en la sección 5 del\n",
    "    ## artículo.\n",
    "        \n",
    "    def train(self, steps):\n",
    "        '''\n",
    "        Define la función de entrenamiento, la cuál se realizará el número de pasos \n",
    "        seleccionados. Usa la variable de parent_scalar para determinar la probabilidad \n",
    "        de que un individuo de la población sea remplazado en cada iteración. Muestra \n",
    "        una gráfica del error al finalizar el entrenamiento. Y regresa una red con\n",
    "        los pesos del individuo con mejor fitness al finalizar el entrenamiento.\n",
    "        '''\n",
    "        pass"
   ]
  },
  {
   "cell_type": "code",
   "execution_count": null,
   "metadata": {},
   "outputs": [],
   "source": [
    "path = './winequality-white.csv'\n",
    "def read_data(path):\n",
    "    '''\n",
    "    Define una función para leer los datos y obtener su formato correcto.\n",
    "    Los datos se componene de una primer linea donde vienen los nombres de las columnas.\n",
    "    Normaliza los datos y dividelos entre los conjuntos de prueba y validación.\n",
    "    '''\n",
    "    pass\n",
    "\n",
    "def confusion(model, X, Y):\n",
    "    '''\n",
    "    Define una función de confusión con la que puedas comparar el resultado entre la red \n",
    "    que se entreno usando backpropagation y la red con mejor fitness resultante del algoritmo genético.\n",
    "    '''\n",
    "    pass"
   ]
  },
  {
   "cell_type": "markdown",
   "metadata": {},
   "source": [
    "Compara la eficacia del algoritmo genético y comparalo con backpropagation, mostrando las gráficas de sus entrenamientos. Y compara sus matrices de confusión. Usa la misma cantidad de capas ocultas con la misma \n",
    "cantidad de neuronas que en el artículo, pero modifica tanto los elementos de entrada como los de \n",
    "salida."
   ]
  },
  {
   "cell_type": "code",
   "execution_count": null,
   "metadata": {},
   "outputs": [],
   "source": []
  },
  {
   "cell_type": "code",
   "execution_count": null,
   "metadata": {},
   "outputs": [],
   "source": [
    "from IPython.core.display import HTML\n",
    "def css_styling():\n",
    "    styles = open(\"styles/custom.css\", \"r\").read() #or edit path to custom.css\n",
    "    return HTML(styles)\n",
    "css_styling()"
   ]
  }
 ],
 "metadata": {
  "kernelspec": {
   "display_name": "Python 3",
   "language": "python",
   "name": "python3"
  },
  "language_info": {
   "codemirror_mode": {
    "name": "ipython",
    "version": 3
   },
   "file_extension": ".py",
   "mimetype": "text/x-python",
   "name": "python",
   "nbconvert_exporter": "python",
   "pygments_lexer": "ipython3",
   "version": "3.8.5"
  }
 },
 "nbformat": 4,
 "nbformat_minor": 4
}
