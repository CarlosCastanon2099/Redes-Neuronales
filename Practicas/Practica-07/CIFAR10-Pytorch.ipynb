{
 "cells": [
  {
   "cell_type": "markdown",
   "metadata": {},
   "source": [
    "# Practica: Redes convolucionales"
   ]
  },
  {
   "cell_type": "code",
   "execution_count": 17,
   "metadata": {},
   "outputs": [],
   "source": [
    "%matplotlib inline\n",
    "\n",
    "import matplotlib.pyplot as plt\n",
    "import matplotlib.cm as cm\n",
    "import json, matplotlib\n",
    "s = json.load( open(\"styles/bmh_matplotlibrc.json\") )\n",
    "matplotlib.rcParams.update(s)\n",
    "from IPython.core.pylabtools import figsize\n",
    "figsize(11, 5)\n",
    "colores = [\"#348ABD\", \"#A60628\",\"#06A628\"]\n",
    "\n",
    "import numpy as np"
   ]
  },
  {
   "cell_type": "code",
   "execution_count": 18,
   "metadata": {},
   "outputs": [
    {
     "name": "stdout",
     "output_type": "stream",
     "text": [
      "Device:  cuda\n"
     ]
    }
   ],
   "source": [
    "#%connect_info\n",
    "import torch\n",
    "import torchvision\n",
    "import torch.nn as nn\n",
    "import torch.optim as optim\n",
    "from torch.autograd import Variable\n",
    "import torchvision.transforms as transforms\n",
    "\n",
    "from torchvision.datasets import CIFAR10\n",
    "from torchvision.datasets import MNIST\n",
    "\n",
    "#Definimos el dispositivo que se usara.\n",
    "device = torch.device(\"cuda\" if torch.cuda.is_available() else \"cpu\")\n",
    "print(\"Device: \", device)\n",
    "\n",
    "#device = \"cpu\""
   ]
  },
  {
   "cell_type": "code",
   "execution_count": 19,
   "metadata": {},
   "outputs": [],
   "source": [
    "def contarCorrectas(net,batch,labels,func=None):\n",
    "    '''Dado un batch y sus etiquetas, cuenta el numero de respuestas\n",
    "    correctas de una red, el parametro func aplica una modificacion al \n",
    "    tensor que contiene los datos'''\n",
    "    \n",
    "    if(func!=None):\n",
    "        batch=func(batch)\n",
    "        salidas=net(batch)\n",
    "    else:\n",
    "        salidas=net(batch)\n",
    "    respuestas=salidas.max(dim=1)[1]\n",
    "    cantidadCorrectas=(respuestas==labels).sum()\n",
    "    return cantidadCorrectas\n",
    "    \n",
    "def calcularPrecisionGlobal(net,data_loader,batch_size,func=None,cuda=False):\n",
    "    '''Calcula la precision de una red dado un data_loader,\n",
    "    recive una funcion que transforma los datos en caso de ser necesario'''\n",
    "    correctas=0\n",
    "    for (images,labels) in data_loader:\n",
    "        if(cuda and torch.cuda.is_available()):\n",
    "            images=images.cuda()\n",
    "            labels=labels.cuda()\n",
    "        correctas+=contarCorrectas(net,images,labels,func)        \n",
    "    correctas=correctas.data.tolist()\n",
    "    return (100*correctas)/(len(data_loader)*batch_size) "
   ]
  },
  {
   "cell_type": "markdown",
   "metadata": {},
   "source": [
    "# Cifar 10\n",
    "Es un conjunto de datos que tiene 60,000 imagenes de 32x32 a color de 10 clases distintas (cada clase con 6,000 elementos).\n",
    "Las clases de este conjunto de datos corresponden a:\n",
    "airplane, automobile, bird, cat, deer, dog, frog, horse, ship, y truck.\n",
    "\n",
    "Podemos descargar CIFAR-10 con el modulo de torchvision."
   ]
  },
  {
   "cell_type": "code",
   "execution_count": 20,
   "metadata": {},
   "outputs": [],
   "source": [
    "#Cargamos los datos de este conjunto en las variables correspondientes al igual que el caso de MNIST\n",
    "trainset = torchvision.datasets.CIFAR10(root='./data', train=True,\n",
    "                                        download=False, transform=transforms.ToTensor())\n",
    "testset = torchvision.datasets.CIFAR10(root='./data', train=False,\n",
    "                                       download=False, transform=transforms.ToTensor())\n",
    "\n",
    "trainloader = torch.utils.data.DataLoader(trainset, batch_size=4,\n",
    "                                          shuffle=True, num_workers=2)\n",
    "\n",
    "testloader = torch.utils.data.DataLoader(testset, batch_size=4,\n",
    "                                         shuffle=False, num_workers=2)\n",
    "\n",
    "classes = ('plane', 'car', 'bird', 'cat',\n",
    "           'deer', 'dog', 'frog', 'horse', 'ship', 'truck')"
   ]
  },
  {
   "cell_type": "markdown",
   "metadata": {},
   "source": [
    "Para resolver el problema de clasificación de las imágenes de CIFAR-10 usaremos una red neuronal \n",
    "cuya arquitectura sea la siguiente:\n",
    "\n",
    "* Una capa convolucional de entrada con un filtro de (5,5) y 64 filtros de salida con activación ReLu\n",
    "* Una capa de MaxPooling de (3,3)\n",
    "* Otra capa convolucional con un filtro de (5,5) y 32 filtros de salida con activación ReLu\n",
    "* Una capa de MaxPooling de (3,3)\n",
    "* Una capa completamente conectada con 384 neuronas,cuya activacion es ReLu\n",
    "* Una capa completamente conectada con 192 neuronas,cuya activacion es ReLu\n",
    "* Finalmente,una capa de salida con 10 neuronas\n",
    "\n"
   ]
  },
  {
   "cell_type": "code",
   "execution_count": 21,
   "metadata": {},
   "outputs": [],
   "source": [
    "#airplane, automobile, bird, cat, deer, dog, frog, horse, ship, and truck.\n",
    "import torch.nn.functional as F\n",
    "class CIFAR_NET(nn.Module):\n",
    "    def __init__(self):\n",
    "        '''\n",
    "        Construccion de la Red, define las capas que se utiizaran.\n",
    "        '''\n",
    "        super(CIFAR_NET, self).__init__()\n",
    "\n",
    "        # Capas convolucionales\n",
    "        self.conv1 = nn.Conv2d(in_channels=3, out_channels=64, kernel_size=5)\n",
    "        self.conv2 = nn.Conv2d(in_channels=64, out_channels=32, kernel_size=5)\n",
    "\n",
    "        # Conectamos las capas \n",
    "        self.fc1 = nn.Linear(32 * 5 * 5, 384)\n",
    "        self.fc2 = nn.Linear(384, 192)\n",
    "        self.fc3 = nn.Linear(192, 10)  # 10 clases en CIFAR-10\n",
    "\n",
    "\n",
    "    def forward(self, x):\n",
    "        '''\n",
    "        Define el orden con el que se realizara la propagacion hacia adelante\n",
    "        de la red.\n",
    "        '''\n",
    "        # Capa convolucional 1\n",
    "        x = F.relu(self.conv1(x))\n",
    "        x = F.max_pool2d(x, 2)\n",
    "\n",
    "        # Capa convolucional 2\n",
    "        x = F.relu(self.conv2(x))\n",
    "        x = F.max_pool2d(x, 2)\n",
    "\n",
    "        # Capa conectada 1\n",
    "        x = x.view(-1, 32 * 5 * 5) # Aplanamos el tensor de la salida de la capa convolucional\n",
    "        x = F.relu(self.fc1(x))\n",
    "\n",
    "        # Capa conectada 2\n",
    "        x = F.relu(self.fc2(x))\n",
    "\n",
    "        # Capa conectada 3\n",
    "        x = self.fc3(x)\n",
    "\n",
    "        return x\n",
    "    \n",
    "\n",
    "    \n",
    "    def train(self,epochs,data_loader,criterion,optimizer,cuda=False):\n",
    "        '''\n",
    "        Define una funcion de entrenamiento, ten en cuenta la forma en la que llegan \n",
    "        los datos de data_loader, e itera sobre ellos. Realiza tambien el caso \n",
    "        en que se llegue a utilizar cuda. Muestra una grafica al finalizar el\n",
    "        entrenamiento usando el lost obtenido.\n",
    "        '''\n",
    "        # Lista para almacenar las perdidas durante el entrenamiento\n",
    "        losses = []\n",
    "\n",
    "        # Si tenemos disponible una GPU, movemos la red a la GPU\n",
    "        if(cuda and torch.cuda.is_available()):\n",
    "            self.cuda()\n",
    "        \n",
    "        # Iteramos sobre el numero de epocas\n",
    "        for epoch in range(epochs):\n",
    "            running_loss = 0.0\n",
    "            for i, data in enumerate(data_loader, 0):\n",
    "                # Obtenemos los datos y los movemos a la GPU si es necesario\n",
    "                inputs, labels = data\n",
    "                if(cuda and torch.cuda.is_available()):\n",
    "                    inputs, labels = inputs.cuda(), labels.cuda()\n",
    "\n",
    "                # Reseteamos los gradientes\n",
    "                optimizer.zero_grad()\n",
    "\n",
    "                # Propagacion hacia adelante\n",
    "                outputs = self(inputs)\n",
    "                loss = criterion(outputs, labels)\n",
    "\n",
    "                # Propagacion hacia atras y optimizacion\n",
    "                loss.backward()\n",
    "                optimizer.step()\n",
    "\n",
    "                running_loss += loss.item()\n",
    "                \n",
    "                # Imprimimos estadisticas\n",
    "                '''\n",
    "                if i % 2000 == 1999:  \n",
    "                    print('[%d, %5d] loss: %.3f' %\n",
    "                          (epoch + 1, i + 1, running_loss / 2000))\n",
    "                    running_loss = 0.0\n",
    "                '''\n",
    "                '''\n",
    "                if i % 2000 == 1999:    # Imprimimos cada 2000 mini-batches\n",
    "                    print('[%d, %5d] loss: %.3f' %\n",
    "                          (epoch + 1, i + 1, running_loss / 2000))\n",
    "                    losses.append(running_loss)\n",
    "                    running_loss = 0.0\n",
    "                '''\n",
    "\n",
    "            # Guardamos la perdida promedio del epoch\n",
    "            epoch_loss = running_loss / len(data_loader)\n",
    "            losses.append(epoch_loss)\n",
    "            print('Epoch %d, loss: %.3f' % (epoch + 1, epoch_loss))\n",
    "        \n",
    "        # Graficamos las perdidas\n",
    "        plt.plot(losses)\n",
    "        plt.xlabel('Epoch')\n",
    "        plt.ylabel('Loss')\n",
    "        plt.title('Perdida durante el entrenamiento')\n",
    "        plt.show()\n",
    "        \n"
   ]
  },
  {
   "cell_type": "code",
   "execution_count": 26,
   "metadata": {},
   "outputs": [
    {
     "name": "stdout",
     "output_type": "stream",
     "text": [
      "Epoch 1, loss: 1.614\n",
      "Epoch 2, loss: 1.311\n",
      "Epoch 3, loss: 1.168\n",
      "Epoch 4, loss: 1.065\n",
      "Epoch 5, loss: 0.980\n",
      "Epoch 6, loss: 0.902\n",
      "Epoch 7, loss: 0.832\n",
      "Epoch 8, loss: 0.768\n",
      "Epoch 9, loss: 0.706\n",
      "Epoch 10, loss: 0.655\n",
      "Epoch 11, loss: 0.599\n",
      "Epoch 12, loss: 0.550\n",
      "Epoch 13, loss: 0.500\n",
      "Epoch 14, loss: 0.455\n",
      "Epoch 15, loss: 0.408\n",
      "Epoch 16, loss: 0.366\n",
      "Epoch 17, loss: 0.324\n",
      "Epoch 18, loss: 0.285\n",
      "Epoch 19, loss: 0.256\n",
      "Epoch 20, loss: 0.223\n",
      "Epoch 21, loss: 0.196\n",
      "Epoch 22, loss: 0.172\n",
      "Epoch 23, loss: 0.152\n",
      "Epoch 24, loss: 0.138\n",
      "Epoch 25, loss: 0.123\n",
      "Epoch 26, loss: 0.111\n",
      "Epoch 27, loss: 0.107\n",
      "Epoch 28, loss: 0.096\n",
      "Epoch 29, loss: 0.091\n",
      "Epoch 30, loss: 0.086\n"
     ]
    },
    {
     "data": {
      "image/png": "[encoded data removed]",
      "text/plain": [
       "<Figure size 1100x500 with 1 Axes>"
      ]
     },
     "metadata": {},
     "output_type": "display_data"
    }
   ],
   "source": [
    "import torch.optim as optim\n",
    "\n",
    "RedCIFAR=CIFAR_NET()\n",
    "\n",
    "# Definimos el criterio de perdida (entropia cruzada) y el optimizador (Adam)\n",
    "criterio = nn.CrossEntropyLoss()\n",
    "optimizer = optim.Adam(RedCIFAR.parameters(), lr=0.0001)\n",
    "\n",
    "# Preprocesamiento necesario si se va a usar CUDA (GPU)\n",
    "cuda = True  \n",
    "if cuda and torch.cuda.is_available(): # Cambia a False si no tenemos una GPU disponible\n",
    "    RedCIFAR.cuda()\n",
    "\n",
    "#Entrenamos la red durante 50 pasos(o los que consideres necesarios),con entropia cruzada y el optimizador \n",
    "RedCIFAR.train(30,trainloader,criterio,optimizer,cuda=cuda) "
   ]
  },
  {
   "cell_type": "code",
   "execution_count": 27,
   "metadata": {},
   "outputs": [
    {
     "name": "stdout",
     "output_type": "stream",
     "text": [
      "Precision en conjunto de entrenamiento: 95.2180%\n",
      "Precision en conjunto de validacion: 67.1200%\n"
     ]
    }
   ],
   "source": [
    "# prec_train =calcularPrecisionGlobal(RedCIFAR,trainloader,4)\n",
    "prec_train = calcularPrecisionGlobal(RedCIFAR, trainloader, 4, cuda=cuda)\n",
    "\n",
    "# prec_val   =calcularPrecisionGlobal(RedCIFAR,testloader,4)\n",
    "prec_val = calcularPrecisionGlobal(RedCIFAR, testloader, 4, cuda=cuda)\n",
    "\n",
    "\n",
    "# print(\"Precision en conjunto de entrenamiento: %.4f%%\"%(prec_train),cuda=cuda)\n",
    "print(\"Precision en conjunto de entrenamiento: %.4f%%\" % prec_train)\n",
    "\n",
    "#print(\"Precision en conjunto de validacion: %.4f%%\"%(prec_val),cuda=cuda)\n",
    "print(\"Precision en conjunto de validacion: %.4f%%\" % prec_val)"
   ]
  },
  {
   "cell_type": "markdown",
   "metadata": {},
   "source": [
    "## Ejercicios:\n",
    "* Crea las funciones necesarias para poder introducir datos concretos a la red (una vez ya entrenada) y obtener el resultado que esta devuelve. Muestra la imagen con la que se está alimentando a la red.\n",
    "* Con la red neuronal entrenada obten la matriz de confusion de ambos conjuntos (entrenamiento y prueba) con las 10 clases posibles. Para ello en lugar de tener en cuenta únicamente los valores de verdaderos positivos, verdaderos negativos, etc, se usarán los 10 elementos, por lo que debemos tener en cuenta cuantos de cada categoria fueron clasificados incorrectamente, y en cual fue.\n",
    "* Despues de cada MaxPool normaliza las salidas y contrasta el rendimiento de la red."
   ]
  },
  {
   "cell_type": "markdown",
   "metadata": {},
   "source": [
    "Referencias:\n",
    "\n",
    "* Krizhevsky , Nair , Hinton. CIFAR-10. https://www.cs.toronto.edu/~kriz/cifar.html\n",
    "* Pytorch, TORCH.NN, https://pytorch.org/docs/stable/nn.html\n",
    "* Goodfellow-et-al. (2016). Deep Learning. MIT Press. https://www.deeplearningbook.org/contents/convnets.html"
   ]
  },
  {
   "cell_type": "code",
   "execution_count": 28,
   "metadata": {},
   "outputs": [
    {
     "data": {
      "text/html": [
       "<style>\n",
       "    img {\n",
       "        display: block;\n",
       "\t\tmargin-left: auto;\n",
       "\t\tmargin-right: auto;\n",
       "\t}\n",
       "</style>\n"
      ],
      "text/plain": [
       "<IPython.core.display.HTML object>"
      ]
     },
     "execution_count": 28,
     "metadata": {},
     "output_type": "execute_result"
    }
   ],
   "source": [
    "from IPython.core.display import HTML\n",
    "def css_styling():\n",
    "    styles = open(\"styles/custom.css\", \"r\").read() #or edit path to custom.css\n",
    "    return HTML(styles)\n",
    "css_styling()"
   ]
  }
 ],
 "metadata": {
  "kernelspec": {
   "display_name": "Python 3",
   "language": "python",
   "name": "python3"
  },
  "language_info": {
   "codemirror_mode": {
    "name": "ipython",
    "version": 3
   },
   "file_extension": ".py",
   "mimetype": "text/x-python",
   "name": "python",
   "nbconvert_exporter": "python",
   "pygments_lexer": "ipython3",
   "version": "3.11.7"
  }
 },
 "nbformat": 4,
 "nbformat_minor": 2
}
