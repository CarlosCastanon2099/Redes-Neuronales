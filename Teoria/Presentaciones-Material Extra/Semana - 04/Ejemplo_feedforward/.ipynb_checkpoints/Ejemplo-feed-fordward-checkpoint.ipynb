{
 "cells": [
  {
   "cell_type": "markdown",
   "metadata": {},
   "source": [
    "### Feed-fordward con vectores."
   ]
  },
  {
   "cell_type": "code",
   "execution_count": 1,
   "metadata": {},
   "outputs": [],
   "source": [
    "import numpy as np"
   ]
  },
  {
   "cell_type": "markdown",
   "metadata": {},
   "source": [
    "Consideremos una red neuronal:\n",
    "\n",
    "<img src=\"./Ejemplo_red.jpeg\">\n",
    "\n",
    "Recordemos que para obtener la activación de cada uno de los perceptrones debemos de sumar los productos entre las respectivas entradas y los pesos respectivos:\n",
    "\n",
    "$$\n",
    "        u=\\sum_{i=1}^{m}w_ix_i+b\n",
    "$$\n",
    "\n",
    "donde $x_1 ... x_m$ son las entradas, $w_i ... w_m$ son los pesos asignados a cada una de las entradas y $b$ es el sesgo.\n",
    "\n",
    "Posteriormente es necesario pasar todo por la función de activación, y eso es necesario para cada una de las neuronas y por cada uno de los vectores a los que queramos evaluar.\n",
    "\n",
    "Sin embargo, podemos realizar este proceso de una manera un poco más sencilla. Para ello usaremos la formula anterior, que es equivalente al producto punto entre los vectores $X$ y $W$."
   ]
  },
  {
   "cell_type": "markdown",
   "metadata": {},
   "source": [
    "Para ello primero vamos a crear los vectores de pesos. Notemos que si deseamos utilizar un único perceptron al cual evaluaremos, con un vector unidimensional sería suficiente, en cambio podemos usar un vector bidimensional para representar a cada una de las capas."
   ]
  },
  {
   "cell_type": "code",
   "execution_count": null,
   "metadata": {},
   "outputs": [],
   "source": [
    "\n",
    "#Función de activación\n",
    "def sigma(x):\n",
    "    return 1 / (1 + np.exp(-x))\n",
    "#Pesos de las capas para fines ilustrativos serán aleatorios.\n",
    "\n",
    "W1 = np.random.random((2,8))\n",
    "W2 = np.random.random((4,3))\n",
    "W3 = np.random.random((2,5))\n",
    "\n",
    "print('========Valores del vector W1=========')\n",
    "print(W1)\n",
    "print('========Valores del vector W2=========')\n",
    "print(W2)\n",
    "print('========Valores del vector W3=========')\n",
    "print(W3)"
   ]
  },
  {
   "cell_type": "markdown",
   "metadata": {},
   "source": [
    "Notemos que los vectores $w$ que representan a los pesos que van dirigidos únicamente a un perceptrón se encuentran de manera horizontal.\n",
    "\n",
    "Generamos también un vector de entrada."
   ]
  },
  {
   "cell_type": "code",
   "execution_count": null,
   "metadata": {},
   "outputs": [],
   "source": [
    "X = np.random.random((7,1))\n",
    "\n",
    "print(X)"
   ]
  },
  {
   "cell_type": "markdown",
   "metadata": {},
   "source": [
    "Y agregamos el sesgo."
   ]
  },
  {
   "cell_type": "code",
   "execution_count": null,
   "metadata": {},
   "outputs": [],
   "source": [
    "X0 = np.vstack((np.ones((1,X.shape[1])),X))\n",
    "print(X0)"
   ]
  },
  {
   "cell_type": "markdown",
   "metadata": {},
   "source": [
    "Con lo cual ya podmeos realizar el producto punto entre estas dos matrices. Recordemos que esta se lleva acabo realizando productos punto entre las filas de la primera matriz y las columnas de la segunda, para dar como resultado una nueva matriz con las dimensiones dadas por la primer dimensión de la primera y la segunda dimensión de la segunda matriz."
   ]
  },
  {
   "cell_type": "code",
   "execution_count": null,
   "metadata": {},
   "outputs": [],
   "source": [
    "A1 = np.dot(W1,X0)\n",
    "print('Dimensiones de la primer matriz.')\n",
    "print(W1.shape)\n",
    "print('Dimensiones de la segunda matriz.')\n",
    "print(X0.shape)\n",
    "print('Dimensiones de la matriz resultado.')\n",
    "print(A1.shape)\n",
    "print('Datos de la matriz resultado.')\n",
    "print(A1)"
   ]
  },
  {
   "cell_type": "markdown",
   "metadata": {},
   "source": [
    "De esta manera también podemos aprovechar para aplicar la función de activación a todos los elementos resultantes."
   ]
  },
  {
   "cell_type": "code",
   "execution_count": null,
   "metadata": {},
   "outputs": [],
   "source": [
    "A1 = sigma(A1)\n",
    "print(A1)"
   ]
  },
  {
   "cell_type": "markdown",
   "metadata": {},
   "source": [
    "Y volviendo a realizar los mismos pasos podemos obtener los resultados de las siguientes capas"
   ]
  },
  {
   "cell_type": "code",
   "execution_count": null,
   "metadata": {},
   "outputs": [],
   "source": [
    "print('Elementos de entrada para la siguiente capa.')\n",
    "X1 = np.vstack(( np.ones((1,A1.shape[1])) ,A1))\n",
    "print(X1)\n",
    "print('Aplicación de los siguientes pesos')\n",
    "A2 = np.dot(W2,X1)\n",
    "print(A2)\n",
    "print('Aplicación de la función de activación')\n",
    "A2 = sigma(A2)\n",
    "print(A2)\n",
    "print('Elementos de entrada para la siguiente capa')\n",
    "X2 = np.vstack((np.ones((1,A2.shape[1])),A2))\n",
    "print(X2)\n",
    "print('Aplicación de los siguientes pesos')\n",
    "A3 = np.dot(W3,X2)\n",
    "print(A3)\n",
    "print('Aplicación de la función de activación y resultado')\n",
    "A3 = sigma(A3)\n",
    "print(A3)"
   ]
  },
  {
   "cell_type": "markdown",
   "metadata": {},
   "source": [
    "Las principales ventajas que podemos ver de utilizar vectores en lugar de realizar una a una las funciones, son que generan más claridad en cada uno de los pasos; que podemos aprovechar algoritmos e infraestructuras especializadas para realizar operaciones con matrices; que tenemos una estructura más concreta para la red neuronal"
   ]
  }
 ],
 "metadata": {
  "kernelspec": {
   "display_name": "Python 3",
   "language": "python",
   "name": "python3"
  },
  "language_info": {
   "codemirror_mode": {
    "name": "ipython",
    "version": 3
   },
   "file_extension": ".py",
   "mimetype": "text/x-python",
   "name": "python",
   "nbconvert_exporter": "python",
   "pygments_lexer": "ipython3",
   "version": "3.6.9"
  }
 },
 "nbformat": 4,
 "nbformat_minor": 4
}
