{
 "cells": [
  {
   "cell_type": "markdown",
   "id": "276b61f2-c18d-4662-afbf-1f414630a756",
   "metadata": {},
   "source": [
    "# Alimentación hacia adelante\n",
    "\n",
    "\n",
    "<center>\n",
    "<img src=\"./figuras/xor.png/\">\n",
    "</center>\n",
    "\n",
    "La fórmula general vectorizada para calcular el valor de la capa siguiente se puede expresar como:\n",
    "\\begin{align*}\n",
    "  A^{(l+1)} = g(A^{(l)} W^{(l)} + B^{(l)})\n",
    "\\end{align*}\n",
    "donde:\n",
    "* $A$ es la matriz de valores de activación, un ejemplar por cada renglón.\n",
    "* $W$ es la matriz de pesos que conectan dos capas sucesivas.\n",
    "* $B$ es el vector de sesgos (o los pesos conectados a $a_0$)."
   ]
  },
  {
   "cell_type": "code",
   "execution_count": 1,
   "id": "f0e2e3ac-ebf6-4826-8797-1997de7dc845",
   "metadata": {},
   "outputs": [],
   "source": [
    "import numpy as np\n",
    "import matplotlib.pyplot as plt\n",
    "\n",
    "X = np.array([[0,0],\n",
    "\t          [0,1],\n",
    "\t          [1,0],\n",
    "\t          [1,1]])\t\n",
    "\n",
    "W1 = np.array([[1,-1],\n",
    "               [1,-1]])\n",
    "\n",
    "B = np.array([[-0.5],[1.5]])\n",
    "\n"
   ]
  },
  {
   "cell_type": "code",
   "execution_count": 2,
   "id": "51ddf33b",
   "metadata": {},
   "outputs": [],
   "source": [
    "# Z1 = np.dot(X, W1) + B\n",
    "Z1 = X.dot(W1) + B.T"
   ]
  },
  {
   "cell_type": "code",
   "execution_count": 3,
   "id": "a4e4476e",
   "metadata": {},
   "outputs": [],
   "source": [
    "def sigmoid(z):\n",
    "    return 1 / (1 + np.exp(-z))"
   ]
  },
  {
   "cell_type": "code",
   "execution_count": 4,
   "id": "90ffb463",
   "metadata": {},
   "outputs": [],
   "source": [
    "A1 = sigmoid(Z1)"
   ]
  },
  {
   "cell_type": "code",
   "execution_count": 5,
   "id": "8b738a53",
   "metadata": {},
   "outputs": [
    {
     "data": {
      "text/plain": [
       "array([[0.37754067, 0.81757448],\n",
       "       [0.62245933, 0.62245933],\n",
       "       [0.62245933, 0.62245933],\n",
       "       [0.81757448, 0.37754067]])"
      ]
     },
     "execution_count": 5,
     "metadata": {},
     "output_type": "execute_result"
    }
   ],
   "source": [
    "A1"
   ]
  },
  {
   "cell_type": "code",
   "execution_count": 6,
   "id": "77cef7ce",
   "metadata": {},
   "outputs": [],
   "source": [
    "W2 = np.array([[1],\n",
    "               [1]])\n",
    "\n",
    "B2 = np.array([[-1.5]])"
   ]
  },
  {
   "cell_type": "code",
   "execution_count": 7,
   "id": "c38dfffe",
   "metadata": {},
   "outputs": [],
   "source": [
    "Z2 = np.dot(A1, W2) + B2\n",
    "\n",
    "A2 = sigmoid(Z2)"
   ]
  },
  {
   "cell_type": "code",
   "execution_count": 8,
   "id": "9e98e166",
   "metadata": {},
   "outputs": [
    {
     "data": {
      "text/plain": [
       "array([[0.42436378],\n",
       "       [0.43657321],\n",
       "       [0.43657321],\n",
       "       [0.42436378]])"
      ]
     },
     "execution_count": 8,
     "metadata": {},
     "output_type": "execute_result"
    }
   ],
   "source": [
    "A2"
   ]
  },
  {
   "cell_type": "markdown",
   "id": "894f88a2-bfe4-4a49-a2ef-6d3b489afbf5",
   "metadata": {},
   "source": [
    "# Cálculo del gradiente del error hacia atrás\n",
    "\n",
    "Función de error:\n",
    "\\begin{align}\n",
    "  J(\\Theta) = - \\frac{1}{m} \\left[ \\sum_{k=1}^{s_L} Y^T \\log(A^{(L)})  + (1 - Y)^T \\log(1 - A^{(L)})   \\right]    \n",
    "\\end{align}"
   ]
  },
  {
   "cell_type": "code",
   "execution_count": 9,
   "id": "631af49e-2539-419b-8fcb-0fa47f23a4e4",
   "metadata": {},
   "outputs": [],
   "source": [
    "# Inserta tu código aquí\n",
    "Y = np.array([[0],\n",
    "              [1],\n",
    "              [1],\n",
    "              [0]])"
   ]
  },
  {
   "cell_type": "code",
   "execution_count": 10,
   "id": "caf0ef8b",
   "metadata": {},
   "outputs": [],
   "source": [
    "# m = 4 ya que solo son 4 ejemplares de entrenamiento\n",
    "J = -(np.dot(Y.T, np.log(A2)) + np.dot((1 - Y).T, np.log(1 - A2))) / 4"
   ]
  },
  {
   "cell_type": "code",
   "execution_count": 11,
   "id": "1b311ef8",
   "metadata": {},
   "outputs": [
    {
     "data": {
      "text/plain": [
       "array([[0.69053929]])"
      ]
     },
     "execution_count": 11,
     "metadata": {},
     "output_type": "execute_result"
    }
   ],
   "source": [
    "J"
   ]
  },
  {
   "cell_type": "code",
   "execution_count": 12,
   "id": "f7b43a88",
   "metadata": {},
   "outputs": [
    {
     "data": {
      "text/plain": [
       "0.6905392895752118"
      ]
     },
     "execution_count": 12,
     "metadata": {},
     "output_type": "execute_result"
    }
   ],
   "source": [
    "J[0,0]"
   ]
  },
  {
   "cell_type": "markdown",
   "id": "6b51f925-895c-40c4-989c-bb09cf09c9b2",
   "metadata": {},
   "source": [
    "* Error cometido por la última capa $L$\n",
    " \\begin{align}\n",
    "  \\Delta^{(L)} &= Y - A^{(L)}\n",
    " \\end{align}"
   ]
  },
  {
   "cell_type": "code",
   "execution_count": 13,
   "id": "661fbb34-82d2-40dd-b67e-fff77c47648c",
   "metadata": {},
   "outputs": [],
   "source": [
    "# Inserta tu código aquí\n",
    "# Delta^L\n",
    "dL = Y - A2"
   ]
  },
  {
   "cell_type": "code",
   "execution_count": 14,
   "id": "49c9fc09",
   "metadata": {},
   "outputs": [
    {
     "data": {
      "text/plain": [
       "array([[-0.42436378],\n",
       "       [ 0.56342679],\n",
       "       [ 0.56342679],\n",
       "       [-0.42436378]])"
      ]
     },
     "execution_count": 14,
     "metadata": {},
     "output_type": "execute_result"
    }
   ],
   "source": [
    "dL"
   ]
  },
  {
   "cell_type": "markdown",
   "id": "54bd6cd6-d8e7-41d7-8652-57c04270d89e",
   "metadata": {},
   "source": [
    "* Error cometido por cualquier capa $l-1$\n",
    " \\begin{align}\n",
    "  \\Delta^{(l-1)} &= \\Delta^{(l)}\\left(W^{(l-1)}\\right)^T \\circ g'(Z^{(l-1)})\n",
    " \\end{align}"
   ]
  },
  {
   "cell_type": "markdown",
   "id": "5a3b7309-78f1-4187-af63-5de8396c0f1d",
   "metadata": {},
   "source": [
    "* Para la función sigmoide: \n",
    " \\begin{align}\n",
    "  g'(Z^{(l-1)}) &= A^{(l-1)} \\circ (1-A^{(l-1)})\n",
    " \\end{align}  "
   ]
  },
  {
   "cell_type": "code",
   "execution_count": 15,
   "id": "f609fb24-7250-48e8-b98d-12366615b346",
   "metadata": {},
   "outputs": [
    {
     "data": {
      "text/plain": [
       "array([[0.23500371, 0.14914645],\n",
       "       [0.23500371, 0.23500371],\n",
       "       [0.23500371, 0.23500371],\n",
       "       [0.14914645, 0.23500371]])"
      ]
     },
     "execution_count": 15,
     "metadata": {},
     "output_type": "execute_result"
    }
   ],
   "source": [
    "# Inserta tu código aquí\n",
    "gpz = A1 * (1 - A1)\n",
    "gpz"
   ]
  },
  {
   "cell_type": "code",
   "execution_count": 16,
   "id": "3d874590",
   "metadata": {},
   "outputs": [
    {
     "data": {
      "text/plain": [
       "array([[-0.09972706, -0.06329235],\n",
       "       [ 0.13240739,  0.13240739],\n",
       "       [ 0.13240739,  0.13240739],\n",
       "       [-0.06329235, -0.09972706]])"
      ]
     },
     "execution_count": 16,
     "metadata": {},
     "output_type": "execute_result"
    }
   ],
   "source": [
    "DLml = np.dot(dL, W2.T) * gpz\n",
    "DLml"
   ]
  },
  {
   "cell_type": "markdown",
   "id": "8939ba1d-e44a-4b9d-aaa2-fa6a623f7ec3",
   "metadata": {},
   "source": [
    "* Componentes del gradiente con respecto a los pesos en $W^{l-1}$\n",
    " \\begin{align}\n",
    "  \\nabla^{(l-1)} &= -\\frac{1}{m}\\left(A^{(l-1)}\\right)^T \\Delta^{(l)}\n",
    " \\end{align}"
   ]
  },
  {
   "cell_type": "code",
   "execution_count": 17,
   "id": "d1911508-c86c-49d5-9329-66927259138b",
   "metadata": {},
   "outputs": [],
   "source": [
    "# Inserta tu código aquí"
   ]
  }
 ],
 "metadata": {
  "kernelspec": {
   "display_name": "Python 3 (ipykernel)",
   "language": "python",
   "name": "python3"
  },
  "language_info": {
   "codemirror_mode": {
    "name": "ipython",
    "version": 3
   },
   "file_extension": ".py",
   "mimetype": "text/x-python",
   "name": "python",
   "nbconvert_exporter": "python",
   "pygments_lexer": "ipython3",
   "version": "3.11.4"
  }
 },
 "nbformat": 4,
 "nbformat_minor": 5
}
