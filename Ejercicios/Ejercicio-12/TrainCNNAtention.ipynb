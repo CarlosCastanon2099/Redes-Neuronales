{
 "cells": [
  {
   "cell_type": "code",
   "execution_count": 1,
   "id": "cb795e53-a551-43e5-9744-a446c995c9b9",
   "metadata": {},
   "outputs": [],
   "source": [
    "import torch\n",
    "import torchvision\n",
    "import torchvision.transforms as transforms"
   ]
  },
  {
   "cell_type": "code",
   "execution_count": 2,
   "id": "98f32023-9600-46e8-be1d-c9b0a6c84da4",
   "metadata": {},
   "outputs": [],
   "source": [
    "import torch.nn as nn\n",
    "import torch.nn.functional as F"
   ]
  },
  {
   "cell_type": "markdown",
   "id": "70ac0ad1-0751-48fa-9d5c-2dab4aa99ef3",
   "metadata": {},
   "source": [
    "# Referencias\n",
    "* [Learn To Pay Attention](https://arxiv.org/abs/1804.02391) Saumya Jetley, Nicholas A. Lord, Namhoon Lee, Philip H.S. Torr. Artículo original\n",
    "* [Training a Classifier](https://pytorch.org/tutorials/beginner/blitz/cifar10_tutorial.html) Tutorial de PyTorch\n",
    "* [Learn to pay attention model code](https://github.com/SaoYan/LearnToPayAttention/blob/master/model1.py) Código de la clase que implementa el modelo del artículo.\n",
    "\n",
    "## Otras referencias\n",
    "* [Deep Inside Convolutional Networks: Visualising Image Classification Models and Saliency Maps](https://arxiv.org/abs/1312.6034) Karen Simonyan, et.al.\n",
    "* [Learn to pay attention](https://github.com/SaoYan/LearnToPayAttention/)\n",
    "* [Attention and image classification](https://discuss.pytorch.org/t/attention-in-image-classification/80147)\n",
    "* [self-attention-gan\n",
    "](https://github.com/brain-research/self-attention-gan/blob/master/model.py)\n"
   ]
  },
  {
   "cell_type": "markdown",
   "id": "7ac935dc-9e3f-4c9e-b2f5-2e85edac0b3f",
   "metadata": {},
   "source": [
    "## Datos\n",
    "\n",
    "Los conjuntos de datos de torchvision son imágenes PILImage con valores en el rango [0, 1].  Esta read utiliza tensores normalizados en el rango [-1, 1]."
   ]
  },
  {
   "cell_type": "code",
   "execution_count": 4,
   "id": "cefad2cb-b7e9-42e8-a437-e035f49e2d85",
   "metadata": {},
   "outputs": [
    {
     "name": "stdout",
     "output_type": "stream",
     "text": [
      "Downloading https://www.cs.toronto.edu/~kriz/cifar-10-python.tar.gz to ./data\\cifar-10-python.tar.gz\n"
     ]
    },
    {
     "name": "stderr",
     "output_type": "stream",
     "text": [
      "100%|██████████| 170498071/170498071 [00:10<00:00, 16273539.11it/s]\n"
     ]
    },
    {
     "name": "stdout",
     "output_type": "stream",
     "text": [
      "Extracting ./data\\cifar-10-python.tar.gz to ./data\n",
      "Files already downloaded and verified\n"
     ]
    }
   ],
   "source": [
    "# Directorio donde se descargarán los archivos\n",
    "root_dir = './data'\n",
    "\n",
    "transform = transforms.Compose(\n",
    "    [transforms.ToTensor(),\n",
    "     transforms.Normalize((0.5, 0.5, 0.5), (0.5, 0.5, 0.5))])\n",
    "\n",
    "batch_size = 4\n",
    "\n",
    "trainset = torchvision.datasets.CIFAR10(root=root_dir, train=True,\n",
    "                                        download=False, transform=transform)\n",
    "trainloader = torch.utils.data.DataLoader(trainset, batch_size=batch_size,\n",
    "                                          shuffle=True, num_workers=2)\n",
    "\n",
    "testset = torchvision.datasets.CIFAR10(root=root_dir, train=False,\n",
    "                                       download=False, transform=transform)\n",
    "testloader = torch.utils.data.DataLoader(testset, batch_size=batch_size,\n",
    "                                         shuffle=False, num_workers=2)"
   ]
  },
  {
   "cell_type": "markdown",
   "id": "01cb9d5a-3886-415b-bb0f-2714129d3328",
   "metadata": {},
   "source": [
    "## Red\n",
    "\n",
    "<div class=\"alert alert-block alert-info\"> <b>Ejercicio:</b>\n",
    "\n",
    "1. Añadir las capas de atención a esta pequeña red.\n",
    "2. Entrenar y visualizar los pesos aprendidos para la función de compatibilidad.\n",
    "3. Para una entrada dada visualizar los valores de activación tras calcular la función de compatibilidad.\n",
    "\n",
    "</div>"
   ]
  },
  {
   "cell_type": "code",
   "execution_count": 5,
   "id": "463925c4-334a-4857-8df5-8e64e6de4658",
   "metadata": {},
   "outputs": [],
   "source": [
    "class Net(nn.Module):\n",
    "    def __init__(self):\n",
    "        super().__init__()\n",
    "        self.conv1 = nn.Conv2d(3, 6, 5)\n",
    "        self.pool = nn.MaxPool2d(2, 2)\n",
    "        self.conv2 = nn.Conv2d(6, 16, 5)\n",
    "        self.fc1 = nn.Linear(16 * 5 * 5, 120)\n",
    "        self.fc2 = nn.Linear(120, 84)\n",
    "        self.fc3 = nn.Linear(84, 10)\n",
    "\n",
    "    def forward(self, x):\n",
    "        x = self.pool(F.relu(self.conv1(x)))\n",
    "        x = self.pool(F.relu(self.conv2(x)))\n",
    "        x = torch.flatten(x, 1) # flatten all dimensions except batch\n",
    "        x = F.relu(self.fc1(x))\n",
    "        x = F.relu(self.fc2(x))\n",
    "        x = self.fc3(x)\n",
    "        return x\n",
    "\n",
    "net = Net()"
   ]
  }
 ],
 "metadata": {
  "kernelspec": {
   "display_name": "Python 3 (ipykernel)",
   "language": "python",
   "name": "python3"
  },
  "language_info": {
   "codemirror_mode": {
    "name": "ipython",
    "version": 3
   },
   "file_extension": ".py",
   "mimetype": "text/x-python",
   "name": "python",
   "nbconvert_exporter": "python",
   "pygments_lexer": "ipython3",
   "version": "3.11.7"
  }
 },
 "nbformat": 4,
 "nbformat_minor": 5
}
